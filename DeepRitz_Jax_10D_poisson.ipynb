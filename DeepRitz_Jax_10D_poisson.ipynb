{
  "nbformat": 4,
  "nbformat_minor": 0,
  "metadata": {
    "colab": {
      "provenance": [],
      "authorship_tag": "ABX9TyMQisMDDoXoKHPLsrG3b27q",
      "include_colab_link": true
    },
    "kernelspec": {
      "name": "python3",
      "display_name": "Python 3"
    },
    "language_info": {
      "name": "python"
    },
    "accelerator": "GPU",
    "gpuClass": "standard"
  },
  "cells": [
    {
      "cell_type": "markdown",
      "metadata": {
        "id": "view-in-github",
        "colab_type": "text"
      },
      "source": [
        "<a href=\"https://colab.research.google.com/github/mekhanikaladvantage/vneural-pdes/blob/main/DeepRitz_Jax_10D_poisson.ipynb\" target=\"_parent\"><img src=\"https://colab.research.google.com/assets/colab-badge.svg\" alt=\"Open In Colab\"/></a>"
      ]
    },
    {
      "cell_type": "code",
      "execution_count": null,
      "metadata": {
        "colab": {
          "base_uri": "https://localhost:8080/"
        },
        "id": "XzymuCcB6s9J",
        "outputId": "1c5203cd-f746-4a34-f03e-0bbbc970adc8"
      },
      "outputs": [
        {
          "output_type": "stream",
          "name": "stdout",
          "text": [
            "Looking in indexes: https://pypi.org/simple, https://us-python.pkg.dev/colab-wheels/public/simple/\n",
            "Requirement already satisfied: optax in /usr/local/lib/python3.8/dist-packages (0.1.4)\n",
            "Requirement already satisfied: typing-extensions>=3.10.0 in /usr/local/lib/python3.8/dist-packages (from optax) (4.4.0)\n",
            "Requirement already satisfied: chex>=0.1.5 in /usr/local/lib/python3.8/dist-packages (from optax) (0.1.6)\n",
            "Requirement already satisfied: jax>=0.1.55 in /usr/local/lib/python3.8/dist-packages (from optax) (0.3.25)\n",
            "Requirement already satisfied: numpy>=1.18.0 in /usr/local/lib/python3.8/dist-packages (from optax) (1.21.6)\n",
            "Requirement already satisfied: absl-py>=0.7.1 in /usr/local/lib/python3.8/dist-packages (from optax) (1.4.0)\n",
            "Requirement already satisfied: jaxlib>=0.1.37 in /usr/local/lib/python3.8/dist-packages (from optax) (0.3.25+cuda11.cudnn805)\n",
            "Requirement already satisfied: toolz>=0.9.0 in /usr/local/lib/python3.8/dist-packages (from chex>=0.1.5->optax) (0.12.0)\n",
            "Requirement already satisfied: dm-tree>=0.1.5 in /usr/local/lib/python3.8/dist-packages (from chex>=0.1.5->optax) (0.1.8)\n",
            "Requirement already satisfied: opt-einsum in /usr/local/lib/python3.8/dist-packages (from jax>=0.1.55->optax) (3.3.0)\n",
            "Requirement already satisfied: scipy>=1.5 in /usr/local/lib/python3.8/dist-packages (from jax>=0.1.55->optax) (1.7.3)\n",
            "Exception reporting mode: Context\n"
          ]
        }
      ],
      "source": [
        "'''\n",
        "Imports\n",
        "'''\n",
        "!pip install optax #must be run at the start of the session.\n",
        "\n",
        "from jax import jit, grad, vmap, value_and_grad\n",
        "from jax import random, nn\n",
        "import jax.numpy as jnp\n",
        "import matplotlib.pyplot as plt\n",
        "import numpy as np\n",
        "import optax\n",
        "import math\n",
        "\n",
        "# JAX_DEBUG_NANS=True\n",
        "JAX_DEBUG_NANS = False\n",
        "from jax.config import config\n",
        "# config.update(\"jax_debug_nans\",True)\n",
        "config.update(\"jax_debug_nans\",False)\n",
        "config.parse_flags_with_absl()\n",
        "\n",
        "#set 64 bit precision\n",
        "# JAX_ENABLE_X64=True\n",
        "JAX_ENABLE_X64=False\n",
        "\n",
        "%xmode context\n",
        "# %xmode verbose"
      ]
    },
    {
      "cell_type": "markdown",
      "source": [
        "Hyperparameters\n",
        "=========="
      ],
      "metadata": {
        "id": "oQrAiHMUL8cM"
      }
    },
    {
      "cell_type": "code",
      "source": [
        "#set hyperparameters\n",
        "\n",
        "# this creates random parameters for the weights and biases of a given node\n",
        "def random_layer_params(m:int,n:int,key, scale = 2e-1) -> tuple:\n",
        "    '''\n",
        "    currenly using the normalized Bengio-Glorot initialization.\n",
        "    '''\n",
        "    w_key, b_key = random.split(key)\n",
        "    # return scale * random.normal(w_key,(n,m)), scale * random.normal(b_key,(n,1))\n",
        "    minval = -6/(jnp.sqrt(m + n)) \n",
        "    # minval = 1\n",
        "    maxval = -1*minval\n",
        "    # maxval = 2\n",
        "    w = scale * random.uniform(w_key,(n,m),minval = minval,maxval = maxval) #n x m\n",
        "    b = scale * random.uniform(b_key,(n,),minval = minval,maxval = maxval) # vector of length n, 1 dimensional.\n",
        "    return w,b \n",
        "\n",
        "# this should initalize nodes\n",
        "def init_network_params(sizes:list,key) -> list:\n",
        "    keys = random.split(key, len(sizes))\n",
        "    return [random_layer_params(m,n,k) for m,n,k in zip(sizes[:-1],sizes[1:],keys)]\n",
        "\n",
        "\n",
        "hypers = dict()\n",
        "hypers[\"d\"] = 10 #specified in exp\n",
        "hypers[\"m\"] = 10 # specified in exp\n",
        "# hypers[\"m\"] = 50 # for ff model\n",
        "# hypers[\"step size\"] = 1e-03\n",
        "# hypers[\"step size\"] = 5e-05 #for pinn\n",
        "hypers[\"step size\"] = 7.5e-05 #used for resnet pinn\n",
        "hypers[\"num epochs\"] = 50000 # specified in experiment\n",
        "# hypers[\"num epochs\"] = int(1e5)\n",
        "hypers[\"batch size\"] = 1000 #specified in experiement\n",
        "hypers[\"boundary size\"] = 100 #specified in experiment\n",
        "# hypers['boundary size'] = 50\n",
        "hypers[\"beta\"] = 10**3 # specfified in experiment\n",
        "# hypers[\"beta\"] = 5*10**3\n",
        "\n",
        "#3 blocks, experiment replication for rn model\n",
        "layer_sizes = [hypers[\"d\"],hypers[\"m\"],hypers[\"m\"],hypers[\"m\"],hypers[\"m\"],hypers[\"m\"],hypers[\"m\"],1]\n",
        "# layer_sizes = [hypers[\"d\"],hypers[\"m\"],hypers[\"m\"],hypers[\"m\"],hypers[\"m\"],hypers[\"m\"],hypers[\"m\"],1]\n",
        "# layer_sizes = [hypers[\"d\"],hypers[\"m\"],hypers[\"m\"],hypers[\"m\"],1]\n",
        "# layer_sizes = [hypers[\"d\"],hypers[\"m\"],hypers[\"m\"],1] #1 hidden layer\n",
        "# layer_sizes = [hypers[\"d\"],hypers[\"m\"],hypers[\"m\"],hypers[\"m\"],1] # 2 hidden layers\n",
        "# layer_sizes = [hypers[\"d\"],hypers[\"m\"],hypers[\"m\"],hypers[\"m\"],hypers[\"m\"],1] # 3 hidden layers\n",
        "# layer_sizes = [hypers[\"d\"],hypers[\"m\"],1]\n",
        "\n",
        "params = init_network_params(layer_sizes,random.PRNGKey(0))\n",
        "# params = init_network_params(layer_sizes,subkey)\n",
        "\n",
        "\n",
        "# key, subkey = random.split(key) #this enables us to not fix the initial parameters\n",
        "\n",
        "optimizer = optax.adam(learning_rate = hypers[\"step size\"])\n",
        "\n"
      ],
      "metadata": {
        "id": "aD3IKv3b6__G"
      },
      "execution_count": null,
      "outputs": []
    },
    {
      "cell_type": "markdown",
      "source": [
        "Model\n",
        "====="
      ],
      "metadata": {
        "id": "GQrLtyGdQmCM"
      }
    },
    {
      "cell_type": "code",
      "source": [
        "from jaxlib.xla_extension import DeviceArray\n",
        "compiled_celu = jit(nn.celu)\n",
        "compiled_softplus = jit(nn.softplus)\n",
        "\n",
        "\n",
        "def relu(x) -> np.float32:\n",
        "  return jnp.maximum(0,x**3) #propogates NaNs\n",
        "\n",
        "def rn_model(params:list,x:DeviceArray) -> np.float32:\n",
        "    # print(\"shape of input is {}\".format(x.shape))\n",
        "    '''\n",
        "    params: list of weight, bias tuples. \n",
        "    x: Input vector. Should be shape (10,)\n",
        "    '''\n",
        "    # print(\"This is the resnet model\")\n",
        "    w,b = params[0]\n",
        "    # print(w.shape)\n",
        "    output = jnp.dot(w,x) + b\n",
        "    # print(f'shape of activations is {output.shape}')\n",
        "    activations = relu(output)\n",
        "    #relu propogates nans\n",
        "    residual = activations #will be used for skip connection, needs right dim\n",
        "    #evenness counter\n",
        "    layer_number = 1\n",
        "    i = 0\n",
        "    # print(\"activations before lin transform is {}\".format(activations))\n",
        "    \n",
        "    for w,b in params[1:-1]: #first and last params are for linear transformation\n",
        "        # output = jnp.add(jnp.dot(w,activations),b)\n",
        "        output = jnp.dot(w,activations) + b\n",
        "        # print(\"output of transform before relu is {}\".format(output))\n",
        "        \n",
        "        activations = relu(output)\n",
        "        \n",
        "        # print(f'activation shape: \\n {activations.shape}')\n",
        "        if i%2 == 0: #only have skip connection on even blocks\n",
        "            activations += residual #add skip connection\n",
        "            residual = activations #update residual\n",
        "            # print(f'skip after layer {layer_number}')\n",
        "        layer_number += 1\n",
        "        i += 1\n",
        "        # # # print(\"activations after transform is {}\".format(activations))\n",
        "        \n",
        "    final_w,final_b = params[-1] \n",
        "    logits = jnp.dot(final_w,activations) + final_b\n",
        "    return logits[0]\n",
        "\n",
        "\n",
        "    #######\n",
        "\n",
        "def ff_model(params:list,x:DeviceArray) -> np.float32:\n",
        "    # print(\"shape of input is {}\".format(x.shape))\n",
        "    '''\n",
        "    params: list of weight, bias tuples. \n",
        "    x: Input vector. Should be shape (10,)\n",
        "    '''\n",
        "    # print(\"This is the feedforward model\")\n",
        "    w,b = params[0]\n",
        "    # print(w.shape)\n",
        "    output = jnp.dot(w,x) + b\n",
        "    activations = relu(output)\n",
        "    #relu propogates nans\n",
        "    \n",
        "    for w,b in params[1:-1]: #first and last params are for linear transformation\n",
        "        output = jnp.dot(w,activations) + b\n",
        "        activations = relu(output)\n",
        "        \n",
        "    final_w,final_b = params[-1] \n",
        "    logits = jnp.dot(final_w,activations) + final_b\n",
        "    return logits[0]\n",
        "\n",
        "model = ff_model\n",
        "# model = rn_model\n",
        "batched_model = vmap(model,in_axes=(None,0)) "
      ],
      "metadata": {
        "id": "QqWZCg8dqaqJ"
      },
      "execution_count": null,
      "outputs": []
    },
    {
      "cell_type": "code",
      "source": [
        "# model debugging\n",
        "x = jnp.ones(shape=(10,))\n",
        "# print(x.shape)\n",
        "out = model(params,x) # 0.004663214\n",
        "print(out)"
      ],
      "metadata": {
        "colab": {
          "base_uri": "https://localhost:8080/"
        },
        "id": "jBQFz36FwLHH",
        "outputId": "3be18b50-b000-43c0-b1b3-e37f78dc321c"
      },
      "execution_count": null,
      "outputs": [
        {
          "output_type": "stream",
          "name": "stdout",
          "text": [
            "0.28721166\n"
          ]
        }
      ]
    },
    {
      "cell_type": "markdown",
      "source": [
        "Batching\n",
        "========\n",
        "The domain is $(0,1)^{10}$, and the boundary is thus $\\partial(0,1)^{10}$. I need to figure out how to sample from all of the hyperplanes, and there are a lot. "
      ],
      "metadata": {
        "id": "5BXOP_KFyBQr"
      }
    },
    {
      "cell_type": "code",
      "source": [
        "'''\n",
        "Batching\n",
        "'''\n",
        "key, subkey = random.split(random.PRNGKey(0))\n",
        "#  #need static argums batch dim size\n",
        "\n",
        "nudge = jnp.finfo(np.float32).tiny\n",
        "# print(nudge)\n",
        "\n",
        "\n",
        "def get_batch(batch_size:int,key:DeviceArray) -> DeviceArray:\n",
        "  return random.uniform(key,shape = (batch_size,hypers[\"d\"]),minval=jnp.nextafter(0,jnp.inf),maxval=1)\n",
        "  # nextafter necessary since uniform samples [minval,maxval). We want (minval,maxval).\n",
        "\n",
        "\n",
        "\n",
        "ones = jnp.ones(shape=(hypers[\"boundary size\"],))\n",
        "zeros = jnp.zeros(shape=(hypers[\"boundary size\"],))\n",
        "\n",
        "\n",
        "def get_boundary_batch(bdy_batch_size:int,key:DeviceArray) -> DeviceArray:\n",
        "  keys = random.split(key,num=3)\n",
        "  # we have two extra keys bc we need them for sampling\n",
        "  samples = [] \n",
        "  bdy_planes = [] #will keep every boundary section in a list\n",
        "  # and then concatenate everything together\n",
        "  high_end = jnp.nextafter(1,jnp.inf)\n",
        "\n",
        "  for i in range(hypers[\"d\"]):\n",
        "    sample_1 = random.uniform(keys[0],shape=(bdy_batch_size,hypers[\"d\"]-1),minval=0,maxval=high_end) #batch_size x 9\n",
        "    bdy_with_ones = jnp.column_stack((sample_1[:,:i],ones,sample_1[:,i:]))\n",
        "    bdy_planes.append(bdy_with_ones)\n",
        "    # print(bdy_planes)\n",
        "\n",
        "    sample_0 = random.uniform(keys[1],shape=(bdy_batch_size,hypers[\"d\"] - 1),minval=0,maxval=high_end)\n",
        "    bdy_with_zeros = jnp.column_stack((sample_0[:,:i],zeros,sample_0[:,i:]))\n",
        "    bdy_planes.append(bdy_with_zeros)\n",
        "\n",
        "    keys = random.split(keys[-1],num=3)\n",
        "  #end\n",
        "\n",
        "  return jnp.concatenate(bdy_planes[:],axis=0)\n",
        "\n",
        "\n",
        "\n",
        "# ones = jnp.ones(shape=(4,))\n",
        "# zeros = jnp.zeros(shape=(4),)\n",
        "boundary = get_boundary_batch(hypers[\"boundary size\"],subkey)\n",
        "# interior = get_batch(4,subkey)\n",
        "# print(interior)\n",
        "print(boundary[395:405])\n",
        "print(f'shape of boundary is {boundary.shape}')"
      ],
      "metadata": {
        "id": "wy7Qfoe7wOuT",
        "colab": {
          "base_uri": "https://localhost:8080/"
        },
        "outputId": "3b8d117e-535f-45d2-a6e6-9d700cf07cd3"
      },
      "execution_count": null,
      "outputs": [
        {
          "output_type": "stream",
          "name": "stdout",
          "text": [
            "[[0.6195981  0.         0.9493358  0.98605573 0.5314922  0.29239872\n",
            "  0.21693209 0.28678992 0.33323732 0.69346875]\n",
            " [0.45833617 0.         0.3753485  0.05552114 0.04749466 0.3253658\n",
            "  0.63035077 0.05912126 0.14282085 0.4722728 ]\n",
            " [0.5740563  0.         0.48856694 0.06821597 0.69677323 0.54419845\n",
            "  0.7534684  0.4652515  0.30324903 0.9340564 ]\n",
            " [0.51124936 0.         0.5884581  0.3956265  0.62786025 0.9549519\n",
            "  0.26241663 0.1764356  0.24474779 0.42905778]\n",
            " [0.658999   0.         0.46132344 0.07902563 0.96315765 0.5771019\n",
            "  0.5376589  0.92542124 0.72533935 0.68740803]\n",
            " [0.12399687 0.13051058 1.         0.75323176 0.07509065 0.2454001\n",
            "  0.66975695 0.63119036 0.30933312 0.34187868]\n",
            " [0.79504955 0.19154671 1.         0.8674109  0.65517706 0.01946259\n",
            "  0.8920357  0.6438059  0.5649019  0.784969  ]\n",
            " [0.6629854  0.03233719 1.         0.0219177  0.16532232 0.6512037\n",
            "  0.4348119  0.649674   0.6560424  0.06161106]\n",
            " [0.10647263 0.00745583 1.         0.93875897 0.2794092  0.6088727\n",
            "  0.9891827  0.29601505 0.2935814  0.7990904 ]\n",
            " [0.42687076 0.30364588 1.         0.77959967 0.6293555  0.85987425\n",
            "  0.6457636  0.15959121 0.4316265  0.01109421]]\n",
            "shape of boundary is (2000, 10)\n"
          ]
        }
      ]
    },
    {
      "cell_type": "code",
      "source": [
        "'''\n",
        "testing block - batching\n",
        "'''\n",
        "x = jnp.ones(shape=(10,10))\n",
        "y = jnp.zeros(shape=(10,))\n",
        "z = [x, y]\n",
        "# delta = jnp.concatenate(z[:],axis=0)\n",
        "stacks = []\n",
        "print()\n",
        "for i in range(len(x[0]) + 1):\n",
        "  stack = jnp.column_stack((x[:,:i],y,x[:,i:]))\n",
        "  stacks.append(stack)\n",
        "\n",
        "output = jnp.concatenate(stacks[:],axis=0)\n",
        "print(output[50:60,:])"
      ],
      "metadata": {
        "colab": {
          "base_uri": "https://localhost:8080/"
        },
        "id": "HLRpbouplAtc",
        "outputId": "d4016c80-fa68-48f2-a854-96fb13be0acb"
      },
      "execution_count": null,
      "outputs": [
        {
          "output_type": "stream",
          "name": "stdout",
          "text": [
            "\n",
            "[[1. 1. 1. 1. 1. 0. 1. 1. 1. 1. 1.]\n",
            " [1. 1. 1. 1. 1. 0. 1. 1. 1. 1. 1.]\n",
            " [1. 1. 1. 1. 1. 0. 1. 1. 1. 1. 1.]\n",
            " [1. 1. 1. 1. 1. 0. 1. 1. 1. 1. 1.]\n",
            " [1. 1. 1. 1. 1. 0. 1. 1. 1. 1. 1.]\n",
            " [1. 1. 1. 1. 1. 0. 1. 1. 1. 1. 1.]\n",
            " [1. 1. 1. 1. 1. 0. 1. 1. 1. 1. 1.]\n",
            " [1. 1. 1. 1. 1. 0. 1. 1. 1. 1. 1.]\n",
            " [1. 1. 1. 1. 1. 0. 1. 1. 1. 1. 1.]\n",
            " [1. 1. 1. 1. 1. 0. 1. 1. 1. 1. 1.]]\n"
          ]
        }
      ]
    },
    {
      "cell_type": "markdown",
      "source": [
        "Loss and Update\n",
        "====="
      ],
      "metadata": {
        "id": "mmfK8Y8IQrqB"
      }
    },
    {
      "cell_type": "code",
      "source": [
        "'''\n",
        "loss and update block\n",
        "'''\n",
        "\n",
        "from optax._src.base import OptState\n",
        "from chex._src.pytypes import Device\n",
        "from jax._src.random import KeyArray\n",
        "\n",
        "def exact(x:DeviceArray) -> np.float32:\n",
        "  #this function doubles as the boundary condition and also the exact solution to the problem. \n",
        "  output = 0\n",
        "  for i in range(int(len(x)/2)):\n",
        "    output += x[2*i]*x[2*i+1]\n",
        "  return output\n",
        "\n",
        "\n",
        "\n",
        "exact_vector = vmap(exact,in_axes=0)\n",
        "\n",
        "def flow_loss_fn(params:list,x:DeviceArray) -> np.float32:\n",
        "  '''\n",
        "  flow loss calculated on 1 2D sample in order to have scalar output.\n",
        "  The scalar output of the model necessary for autograd to work.\n",
        "  '''\n",
        "  dudx = grad(model,argnums=1)(params,x) # compute gradient wrt sample\n",
        "  # print(f'shape of gradient is {dudx.shape}')\n",
        "  # print(f'gradient is {dudx}')\n",
        "  # print(f'gradient squared is {dudx*dudx}')\n",
        "  return 0.5*(jnp.sum(dudx*dudx)) #since f = 0\n",
        "\n",
        "flow_loss_vector = vmap(flow_loss_fn,in_axes=(None,0)) \n",
        "\n",
        "def laplacian(params:list,x:DeviceArray) -> np.float32:\n",
        "  return jnp.sum(grad(model,argnums=1)(params,x))\n",
        "\n",
        "laplacian_vector = vmap(laplacian,in_axes=(None,0))\n",
        "  \n",
        "def pinn_loss(params,batch:DeviceArray) -> np.float32:\n",
        "  return jnp.linalg.norm(laplacian_vector(params,batch))\n",
        "\n",
        "\n",
        "\n",
        "def loss_fn(params:list,key:KeyArray) -> np.float32:\n",
        "# def loss_fn(params:list,interior_sample,boundary_sample):\n",
        "  '''\n",
        "  this function samples data and calculates the loss.\n",
        "  Please note that this function MUST be differentiable.\n",
        "  The loss consists of two parts, an flow loss given by the energy,\n",
        "  and a boundary loss to enforce boundary conditions. \n",
        "  '''\n",
        "  # generate data\n",
        "  keys = random.split(key,num=2)\n",
        "  interior_sample = get_batch(hypers[\"batch size\"],keys[0])\n",
        "  boundary_sample = get_boundary_batch(hypers[\"boundary size\"],keys[1])\n",
        "  \n",
        "  #calculate flow loss if using Deep Ritz loss\n",
        "  # flow_output = flow_loss_vector(params,interior_sample)\n",
        "  # flow_loss = jnp.mean(flow_output) \n",
        "\n",
        "  # PINN loss, if using\n",
        "  flow_loss = pinn_loss(params,interior_sample)\n",
        "\n",
        "\n",
        "  #calculate boundary loss\n",
        "  # bdy_loss = beta*jnp.mean(batched_model(params,boundary_sample)*batched_model(params,boundary_sample))\n",
        "  bdy_output = batched_model(params,boundary_sample)\n",
        "  exact_output = exact_vector(boundary_sample)\n",
        "  bdy_diff = exact_output - bdy_output\n",
        "  # print(f'bdy_diff is {bdy_diff}')\n",
        "  bdy_loss = hypers[\"beta\"]*jnp.mean(bdy_diff*bdy_diff)\n",
        "\n",
        "  return jnp.add(flow_loss,bdy_loss)\n",
        "\n",
        "def update(params:list,opt_state:OptState,key:KeyArray):\n",
        "# def update(params:list,opt_state:OptState,interior_sample,boundary_sample):\n",
        "  '''\n",
        "  This calculates the parameter updates using the ADAM algorithm,\n",
        "  as implemented in optax.\n",
        "  '''\n",
        "\n",
        "  loss,grads = value_and_grad(loss_fn,argnums=0)(params,key)\n",
        "  # loss,grads = value_and_grad(loss_fn,argnums=0)(params,interior_sample,boundary_sample)\n",
        "\n",
        "  updates,opt_state = optimizer.update(grads,opt_state,params)\n",
        "  params = optax.apply_updates(params,updates)\n",
        "\n",
        "  return params,opt_state,loss\n",
        "\n",
        "#jit update for moar speed\n",
        "compiled_update = jit(update)"
      ],
      "metadata": {
        "id": "tt4XaWPCMOCL"
      },
      "execution_count": null,
      "outputs": []
    },
    {
      "cell_type": "code",
      "source": [
        "'''\n",
        "debugging block - loss and update\n",
        "'''\n",
        "x = 2*jnp.ones(shape=(10,10))\n",
        "y = loss_fn(params,random.PRNGKey(2))\n",
        "print(y) # should be 5 "
      ],
      "metadata": {
        "colab": {
          "base_uri": "https://localhost:8080/"
        },
        "id": "5GvHPoL8SV9X",
        "outputId": "4a6c9be2-209c-4f09-97ff-79da75df5ff0"
      },
      "execution_count": null,
      "outputs": [
        {
          "output_type": "stream",
          "name": "stdout",
          "text": [
            "1179.7692\n"
          ]
        }
      ]
    },
    {
      "cell_type": "markdown",
      "source": [
        "Training Loop\n",
        "==========="
      ],
      "metadata": {
        "id": "fmWzS6JQMDD_"
      }
    },
    {
      "cell_type": "code",
      "source": [
        "#reset key\n",
        "key, train_key = random.split(random.PRNGKey(25))\n",
        "params = init_network_params(layer_sizes,train_key)\n",
        "\n",
        "# %xmode context\n",
        "%xmode verbose\n"
      ],
      "metadata": {
        "id": "NvnpW9nVUT5Q",
        "colab": {
          "base_uri": "https://localhost:8080/"
        },
        "outputId": "e0408753-8f24-4e6c-d096-75550f3554ea"
      },
      "execution_count": null,
      "outputs": [
        {
          "output_type": "stream",
          "name": "stdout",
          "text": [
            "Exception reporting mode: Verbose\n"
          ]
        }
      ]
    },
    {
      "cell_type": "code",
      "source": [
        "#training loop\n",
        "import time\n",
        "\n",
        "flow_losses = []\n",
        "bdy_losses = []\n",
        "training_losses = []\n",
        "flow_residuals = []\n",
        "bdy_residuals = []\n",
        "\n",
        "# i=1\n",
        "# num_epochs = int(1e5) #run for longer\n",
        "num_epochs = 50000\n",
        "# num_epochs = 75000\n",
        "#adam optimizer via optax\n",
        "opt_state = optimizer.init(params)\n",
        "start_time = time.time()\n",
        "\n",
        "for epoch in range(hypers[\"num epochs\"]):\n",
        "    \n",
        "    key,train_key = random.split(key)\n",
        "    \n",
        "    \n",
        "    params,opt_state,train_loss = compiled_update(params,opt_state,train_key)\n",
        "    # params,opt_state,train_loss = compiled_error_update(params,opt_state,train_key)\n",
        "\n",
        "    # loss = jnp.add(int_loss,bdy_loss)\n",
        "    training_losses.append(train_loss)\n",
        "    \n",
        "    if epoch%1000 == 0:\n",
        "      \n",
        "\n",
        "      epoch_time = time.time() - start_time\n",
        "\n",
        "      keys = random.split(train_key,num=2)\n",
        "      int_out_batch = get_batch(hypers[\"batch size\"],keys[0])\n",
        "      bdy_out_batch = get_boundary_batch(hypers[\"boundary size\"],keys[1])\n",
        "\n",
        "      # flow_output = flow_loss_vector(params,int_out_batch) #these two are for dr loss\n",
        "      # flow_train_loss = jnp.mean(flow_output)\n",
        "\n",
        "      flow_train_loss = pinn_loss(params,int_out_batch) # for pinn loss\n",
        "      \n",
        "      flow_losses.append(flow_train_loss)\n",
        "\n",
        "      bdy_output = batched_model(params,bdy_out_batch)\n",
        "      exact_bdy = exact_vector(bdy_out_batch)\n",
        "      bdy_diff = bdy_output - exact_bdy\n",
        "      bdy_train_loss = hypers[\"beta\"]*jnp.mean(bdy_diff*bdy_diff)\n",
        "      bdy_losses.append(bdy_train_loss)\n",
        "      bdy_error = jnp.sqrt(jnp.mean(bdy_diff*bdy_diff) / jnp.mean(exact_bdy**2)) #don't need penalty param here\n",
        "      # bdy_error = jnp.sqrt(jnp.sum(bdy_diff*bdy_diff) / jnp.sum(exact_bdy**2)) #don't need penalty param here\n",
        "      bdy_residuals.append(bdy_error)\n",
        "\n",
        "      exact_int = exact_vector(int_out_batch)\n",
        "      int_output = batched_model(params,int_out_batch)\n",
        "      int_error = jnp.sqrt(jnp.mean((exact_int - int_output)**2)/jnp.mean(exact_int**2))\n",
        "      # int_error = jnp.sqrt(jnp.sum((exact_int - int_output)**2)/jnp.sum(exact_int**2)) \n",
        "      #error is measured in relative L2 error\n",
        "      flow_residuals.append(int_error)\n",
        "\n",
        "      start_time = time.time()\n",
        "      print(\"---------------\")\n",
        "      print(\"Epoch {} in {:0.2f} additional seconds\".format(epoch, epoch_time))\n",
        "      \n",
        "      print(f'Interior relative error is {int_error}')\n",
        "      print(f'Boundary relative error is {bdy_error}')\n",
        "      print(\"Total loss is {}\".format(train_loss))\n",
        "    #end if\n",
        "\n",
        "    if epoch%5000 == 0 and epoch!= 0:\n",
        "      plt.clf()\n",
        "      fig,axs = plt.subplots(nrows=1,ncols=2)\n",
        "      axs[0].loglog(flow_residuals,'b')\n",
        "      axs[0].loglog(bdy_residuals,'r')\n",
        "      axs[0].set_title(\"Relative L2 error\")\n",
        "      axs[1].loglog(training_losses)\n",
        "      # axs[1].loglog(,'r')\n",
        "      axs[1].set_title(\"Loss\")\n",
        "      plt.show()\n",
        "    #end if\n",
        "\n",
        "#end for\n",
        "    \n",
        "#once loops ends    \n",
        "print(\"Epoch {} in {:0.2f} sec\".format(epoch, epoch_time)) #print final epoch info\n",
        "print(\"Final loss is  {}\".format(train_loss))\n",
        "\n"
      ],
      "metadata": {
        "id": "2YcCxd6eUUpT",
        "colab": {
          "base_uri": "https://localhost:8080/",
          "height": 1000
        },
        "outputId": "cd6afbe6-c30d-4699-8ab6-a844a0a2f054"
      },
      "execution_count": null,
      "outputs": [
        {
          "output_type": "stream",
          "name": "stdout",
          "text": [
            "---------------\n",
            "Epoch 0 in 4.82 additional seconds\n",
            "Interior relative error is 1.1695427894592285\n",
            "Boundary relative error is 1.1648108959197998\n",
            "Total loss is 2554.483154296875\n",
            "---------------\n",
            "Epoch 1000 in 1.52 additional seconds\n",
            "Interior relative error is 1.1096034049987793\n",
            "Boundary relative error is 1.1052882671356201\n",
            "Total loss is 2311.708251953125\n",
            "---------------\n",
            "Epoch 2000 in 1.49 additional seconds\n",
            "Interior relative error is 1.0141059160232544\n",
            "Boundary relative error is 1.0140105485916138\n",
            "Total loss is 1864.114501953125\n",
            "---------------\n",
            "Epoch 3000 in 2.03 additional seconds\n",
            "Interior relative error is 0.558770477771759\n",
            "Boundary relative error is 0.5765967965126038\n",
            "Total loss is 628.96484375\n",
            "---------------\n",
            "Epoch 4000 in 2.50 additional seconds\n",
            "Interior relative error is 0.3433118164539337\n",
            "Boundary relative error is 0.3753810226917267\n",
            "Total loss is 280.7991943359375\n",
            "---------------\n",
            "Epoch 5000 in 3.70 additional seconds\n",
            "Interior relative error is 0.35090428590774536\n",
            "Boundary relative error is 0.36640986800193787\n",
            "Total loss is 268.56036376953125\n"
          ]
        },
        {
          "output_type": "display_data",
          "data": {
            "text/plain": [
              "<Figure size 432x288 with 0 Axes>"
            ]
          },
          "metadata": {}
        },
        {
          "output_type": "display_data",
          "data": {
            "text/plain": [
              "<Figure size 432x288 with 2 Axes>"
            ],
            "image/png": "[encoded data removed]"
          },
          "metadata": {
            "needs_background": "light"
          }
        },
        {
          "output_type": "stream",
          "name": "stdout",
          "text": [
            "---------------\n",
            "Epoch 6000 in 4.59 additional seconds\n",
            "Interior relative error is 0.34493449330329895\n",
            "Boundary relative error is 0.35794126987457275\n",
            "Total loss is 259.08447265625\n",
            "---------------\n",
            "Epoch 7000 in 2.59 additional seconds\n",
            "Interior relative error is 0.31832200288772583\n",
            "Boundary relative error is 0.34196990728378296\n",
            "Total loss is 264.83782958984375\n",
            "---------------\n",
            "Epoch 8000 in 1.82 additional seconds\n",
            "Interior relative error is 0.2733844220638275\n",
            "Boundary relative error is 0.29319363832473755\n",
            "Total loss is 220.52227783203125\n",
            "---------------\n",
            "Epoch 9000 in 1.68 additional seconds\n",
            "Interior relative error is 0.22273418307304382\n",
            "Boundary relative error is 0.23811574280261993\n",
            "Total loss is 191.74728393554688\n",
            "---------------\n",
            "Epoch 10000 in 1.51 additional seconds\n",
            "Interior relative error is 0.18566878139972687\n",
            "Boundary relative error is 0.20571056008338928\n",
            "Total loss is 181.75506591796875\n"
          ]
        },
        {
          "output_type": "display_data",
          "data": {
            "text/plain": [
              "<Figure size 432x288 with 0 Axes>"
            ]
          },
          "metadata": {}
        },
        {
          "output_type": "display_data",
          "data": {
            "text/plain": [
              "<Figure size 432x288 with 2 Axes>"
            ],
            "image/png": "[encoded data removed]"
          },
          "metadata": {
            "needs_background": "light"
          }
        },
        {
          "output_type": "stream",
          "name": "stdout",
          "text": [
            "---------------\n",
            "Epoch 11000 in 2.35 additional seconds\n",
            "Interior relative error is 0.16259855031967163\n",
            "Boundary relative error is 0.1836516410112381\n",
            "Total loss is 171.3464813232422\n",
            "---------------\n",
            "Epoch 12000 in 1.52 additional seconds\n",
            "Interior relative error is 0.1585913449525833\n",
            "Boundary relative error is 0.1665017008781433\n",
            "Total loss is 161.3675079345703\n",
            "---------------\n",
            "Epoch 13000 in 1.47 additional seconds\n",
            "Interior relative error is 0.14331981539726257\n",
            "Boundary relative error is 0.1628323197364807\n",
            "Total loss is 160.74172973632812\n",
            "---------------\n",
            "Epoch 14000 in 1.56 additional seconds\n",
            "Interior relative error is 0.14259839057922363\n",
            "Boundary relative error is 0.15426069498062134\n",
            "Total loss is 156.8569793701172\n",
            "---------------\n",
            "Epoch 15000 in 1.87 additional seconds\n",
            "Interior relative error is 0.13040895760059357\n",
            "Boundary relative error is 0.14158348739147186\n",
            "Total loss is 150.43548583984375\n"
          ]
        },
        {
          "output_type": "display_data",
          "data": {
            "text/plain": [
              "<Figure size 432x288 with 0 Axes>"
            ]
          },
          "metadata": {}
        },
        {
          "output_type": "display_data",
          "data": {
            "text/plain": [
              "<Figure size 432x288 with 2 Axes>"
            ],
            "image/png": "[encoded data removed]"
          },
          "metadata": {
            "needs_background": "light"
          }
        },
        {
          "output_type": "stream",
          "name": "stdout",
          "text": [
            "---------------\n",
            "Epoch 16000 in 2.21 additional seconds\n",
            "Interior relative error is 0.13584165275096893\n",
            "Boundary relative error is 0.14552082121372223\n",
            "Total loss is 150.22308349609375\n",
            "---------------\n",
            "Epoch 17000 in 1.48 additional seconds\n",
            "Interior relative error is 0.13063916563987732\n",
            "Boundary relative error is 0.14297492802143097\n",
            "Total loss is 149.5950469970703\n",
            "---------------\n",
            "Epoch 18000 in 1.51 additional seconds\n",
            "Interior relative error is 0.12824231386184692\n",
            "Boundary relative error is 0.14289040863513947\n",
            "Total loss is 149.96633911132812\n",
            "---------------\n",
            "Epoch 19000 in 1.47 additional seconds\n",
            "Interior relative error is 0.12983235716819763\n",
            "Boundary relative error is 0.13569606840610504\n",
            "Total loss is 143.47586059570312\n",
            "---------------\n",
            "Epoch 20000 in 1.46 additional seconds\n",
            "Interior relative error is 0.13029631972312927\n",
            "Boundary relative error is 0.1385083794593811\n",
            "Total loss is 145.18942260742188\n"
          ]
        },
        {
          "output_type": "display_data",
          "data": {
            "text/plain": [
              "<Figure size 432x288 with 0 Axes>"
            ]
          },
          "metadata": {}
        },
        {
          "output_type": "display_data",
          "data": {
            "text/plain": [
              "<Figure size 432x288 with 2 Axes>"
            ],
            "image/png": "[encoded data removed]"
          },
          "metadata": {
            "needs_background": "light"
          }
        },
        {
          "output_type": "stream",
          "name": "stdout",
          "text": [
            "---------------\n",
            "Epoch 21000 in 2.95 additional seconds\n",
            "Interior relative error is 0.12878449261188507\n",
            "Boundary relative error is 0.1365453153848648\n",
            "Total loss is 143.92794799804688\n",
            "---------------\n",
            "Epoch 22000 in 1.44 additional seconds\n",
            "Interior relative error is 0.12577219307422638\n",
            "Boundary relative error is 0.13737717270851135\n",
            "Total loss is 145.30352783203125\n",
            "---------------\n",
            "Epoch 23000 in 1.52 additional seconds\n",
            "Interior relative error is 0.12187273055315018\n",
            "Boundary relative error is 0.13499896228313446\n",
            "Total loss is 145.07232666015625\n",
            "---------------\n",
            "Epoch 24000 in 1.46 additional seconds\n",
            "Interior relative error is 0.12718123197555542\n",
            "Boundary relative error is 0.13606448471546173\n",
            "Total loss is 144.1607208251953\n",
            "---------------\n",
            "Epoch 25000 in 1.52 additional seconds\n",
            "Interior relative error is 0.12534458935260773\n",
            "Boundary relative error is 0.1341477930545807\n",
            "Total loss is 143.24310302734375\n"
          ]
        },
        {
          "output_type": "display_data",
          "data": {
            "text/plain": [
              "<Figure size 432x288 with 0 Axes>"
            ]
          },
          "metadata": {}
        },
        {
          "output_type": "display_data",
          "data": {
            "text/plain": [
              "<Figure size 432x288 with 2 Axes>"
            ],
            "image/png": "[encoded data removed]"
          },
          "metadata": {
            "needs_background": "light"
          }
        },
        {
          "output_type": "stream",
          "name": "stdout",
          "text": [
            "---------------\n",
            "Epoch 26000 in 2.46 additional seconds\n",
            "Interior relative error is 0.12564575672149658\n",
            "Boundary relative error is 0.13521675765514374\n",
            "Total loss is 142.05392456054688\n",
            "---------------\n",
            "Epoch 27000 in 1.95 additional seconds\n",
            "Interior relative error is 0.13022634387016296\n",
            "Boundary relative error is 0.1335964798927307\n",
            "Total loss is 140.24765014648438\n",
            "---------------\n",
            "Epoch 28000 in 1.54 additional seconds\n",
            "Interior relative error is 0.1246165782213211\n",
            "Boundary relative error is 0.13075587153434753\n",
            "Total loss is 140.65782165527344\n",
            "---------------\n",
            "Epoch 29000 in 1.51 additional seconds\n",
            "Interior relative error is 0.12311112135648727\n",
            "Boundary relative error is 0.1316688060760498\n",
            "Total loss is 139.3316650390625\n",
            "---------------\n",
            "Epoch 30000 in 1.49 additional seconds\n",
            "Interior relative error is 0.1196068823337555\n",
            "Boundary relative error is 0.1335013508796692\n",
            "Total loss is 141.72848510742188\n"
          ]
        },
        {
          "output_type": "display_data",
          "data": {
            "text/plain": [
              "<Figure size 432x288 with 0 Axes>"
            ]
          },
          "metadata": {}
        },
        {
          "output_type": "display_data",
          "data": {
            "text/plain": [
              "<Figure size 432x288 with 2 Axes>"
            ],
            "image/png": "[encoded data removed]"
          },
          "metadata": {
            "needs_background": "light"
          }
        },
        {
          "output_type": "stream",
          "name": "stdout",
          "text": [
            "---------------\n",
            "Epoch 31000 in 2.36 additional seconds\n",
            "Interior relative error is 0.12239337712526321\n",
            "Boundary relative error is 0.13462959229946136\n",
            "Total loss is 141.8664093017578\n",
            "---------------\n",
            "Epoch 32000 in 1.51 additional seconds\n",
            "Interior relative error is 0.1243073046207428\n",
            "Boundary relative error is 0.13209101557731628\n",
            "Total loss is 139.53329467773438\n",
            "---------------\n",
            "Epoch 33000 in 2.04 additional seconds\n",
            "Interior relative error is 0.12056688964366913\n",
            "Boundary relative error is 0.13167791068553925\n",
            "Total loss is 138.3333740234375\n",
            "---------------\n",
            "Epoch 34000 in 1.52 additional seconds\n",
            "Interior relative error is 0.1261545568704605\n",
            "Boundary relative error is 0.13190504908561707\n",
            "Total loss is 140.08822631835938\n",
            "---------------\n",
            "Epoch 35000 in 1.51 additional seconds\n",
            "Interior relative error is 0.12643565237522125\n",
            "Boundary relative error is 0.13646745681762695\n",
            "Total loss is 138.19985961914062\n"
          ]
        },
        {
          "output_type": "display_data",
          "data": {
            "text/plain": [
              "<Figure size 432x288 with 0 Axes>"
            ]
          },
          "metadata": {}
        },
        {
          "output_type": "display_data",
          "data": {
            "text/plain": [
              "<Figure size 432x288 with 2 Axes>"
            ],
            "image/png": "[encoded data removed]"
          },
          "metadata": {
            "needs_background": "light"
          }
        },
        {
          "output_type": "stream",
          "name": "stdout",
          "text": [
            "---------------\n",
            "Epoch 36000 in 3.02 additional seconds\n",
            "Interior relative error is 0.12554369866847992\n",
            "Boundary relative error is 0.13528980314731598\n",
            "Total loss is 138.0657501220703\n",
            "---------------\n",
            "Epoch 37000 in 1.48 additional seconds\n",
            "Interior relative error is 0.12830792367458344\n",
            "Boundary relative error is 0.1354895979166031\n",
            "Total loss is 134.52464294433594\n",
            "---------------\n",
            "Epoch 38000 in 1.66 additional seconds\n",
            "Interior relative error is 0.13181538879871368\n",
            "Boundary relative error is 0.13406364619731903\n",
            "Total loss is 135.02410888671875\n",
            "---------------\n",
            "Epoch 39000 in 1.84 additional seconds\n",
            "Interior relative error is 0.1277613341808319\n",
            "Boundary relative error is 0.14010056853294373\n",
            "Total loss is 135.87185668945312\n",
            "---------------\n",
            "Epoch 40000 in 1.70 additional seconds\n",
            "Interior relative error is 0.13073670864105225\n",
            "Boundary relative error is 0.13741420209407806\n",
            "Total loss is 133.92831420898438\n"
          ]
        },
        {
          "output_type": "display_data",
          "data": {
            "text/plain": [
              "<Figure size 432x288 with 0 Axes>"
            ]
          },
          "metadata": {}
        },
        {
          "output_type": "display_data",
          "data": {
            "text/plain": [
              "<Figure size 432x288 with 2 Axes>"
            ],
            "image/png": "[encoded data removed]"
          },
          "metadata": {
            "needs_background": "light"
          }
        },
        {
          "output_type": "stream",
          "name": "stdout",
          "text": [
            "---------------\n",
            "Epoch 41000 in 2.87 additional seconds\n",
            "Interior relative error is 0.12415336817502975\n",
            "Boundary relative error is 0.14157193899154663\n",
            "Total loss is 135.62442016601562\n",
            "---------------\n",
            "Epoch 42000 in 1.49 additional seconds\n",
            "Interior relative error is 0.13124723732471466\n",
            "Boundary relative error is 0.14305385947227478\n",
            "Total loss is 135.36155700683594\n",
            "---------------\n",
            "Epoch 43000 in 1.48 additional seconds\n",
            "Interior relative error is 0.12891435623168945\n",
            "Boundary relative error is 0.14098331332206726\n",
            "Total loss is 135.06301879882812\n",
            "---------------\n",
            "Epoch 44000 in 1.74 additional seconds\n",
            "Interior relative error is 0.12817730009555817\n",
            "Boundary relative error is 0.14237314462661743\n",
            "Total loss is 135.56024169921875\n",
            "---------------\n",
            "Epoch 45000 in 1.69 additional seconds\n",
            "Interior relative error is 0.12526321411132812\n",
            "Boundary relative error is 0.14282476902008057\n",
            "Total loss is 135.84555053710938\n"
          ]
        },
        {
          "output_type": "display_data",
          "data": {
            "text/plain": [
              "<Figure size 432x288 with 0 Axes>"
            ]
          },
          "metadata": {}
        },
        {
          "output_type": "display_data",
          "data": {
            "text/plain": [
              "<Figure size 432x288 with 2 Axes>"
            ],
            "image/png": "[encoded data removed]"
          },
          "metadata": {
            "needs_background": "light"
          }
        },
        {
          "output_type": "stream",
          "name": "stdout",
          "text": [
            "---------------\n",
            "Epoch 46000 in 2.52 additional seconds\n",
            "Interior relative error is 0.13065595924854279\n",
            "Boundary relative error is 0.13857422769069672\n",
            "Total loss is 131.9093780517578\n",
            "---------------\n",
            "Epoch 47000 in 1.53 additional seconds\n",
            "Interior relative error is 0.13018476963043213\n",
            "Boundary relative error is 0.13959085941314697\n",
            "Total loss is 134.49749755859375\n",
            "---------------\n",
            "Epoch 48000 in 1.50 additional seconds\n",
            "Interior relative error is 0.12939301133155823\n",
            "Boundary relative error is 0.1385437697172165\n",
            "Total loss is 133.20797729492188\n",
            "---------------\n",
            "Epoch 49000 in 1.49 additional seconds\n",
            "Interior relative error is 0.1360001415014267\n",
            "Boundary relative error is 0.1425270140171051\n",
            "Total loss is 135.1617431640625\n",
            "Epoch 49999 in 1.49 sec\n",
            "Final loss is  133.42935180664062\n"
          ]
        }
      ]
    },
    {
      "cell_type": "code",
      "source": [
        "plt.clf()\n",
        "# plt.loglog(flow_residuals,'b',label=\"flow error\")\n",
        "# plt.loglog(bdy_residuals,'r',label = 'boundary error')\n",
        "# plt.legend()\n",
        "# plt.xlabel(\"Epochs/1000\")\n",
        "# plt.ylabel(\"Relative L2 Error\")\n",
        "# # plt.show()\n",
        "# plt.savefig(\"10D-ff-pinn-error.png\")\n",
        "\n",
        "fig,axs = plt.subplots(nrows=1,ncols=2)\n",
        "axs[0].loglog(flow_residuals,'b')\n",
        "axs[0].loglog(bdy_residuals,'r')\n",
        "axs[0].set_title(\"Relative L2 error\")\n",
        "axs[0].xlabel(\"Epochs/1000\")\n",
        "axs[0]\n",
        "axs[1].loglog(training_losses)\n",
        "      # axs[1].loglog(,'r')\n",
        "axs[1].set_title(\"Loss\")\n",
        "plt.show()\n",
        "\n",
        "print(f'final flow residual error is {flow_residuals[-1]}')\n",
        "print(f'final boundary residual error is {bdy_residuals[-1]}')\n",
        "print(f'total final error is {jnp.add(flow_residuals[-1],bdy_residuals[-1])}')"
      ],
      "metadata": {
        "id": "3uk1ClpeMWhP",
        "colab": {
          "base_uri": "https://localhost:8080/",
          "height": 335
        },
        "outputId": "8de9dab5-51a0-4371-a507-8a95a078deea"
      },
      "execution_count": null,
      "outputs": [
        {
          "output_type": "stream",
          "name": "stdout",
          "text": [
            "final flow residual error is 0.1360001415014267\n",
            "final boundary residual error is 0.1425270140171051\n",
            "total final error is 0.2785271406173706\n"
          ]
        },
        {
          "output_type": "display_data",
          "data": {
            "text/plain": [
              "<Figure size 432x288 with 1 Axes>"
            ],
            "image/png": "[encoded data removed]"
          },
          "metadata": {
            "needs_background": "light"
          }
        }
      ]
    },
    {
      "cell_type": "code",
      "source": [
        "plt.clf()\n",
        "plt.loglog(training_losses)\n",
        "plt.xlabel(\"Epochs\")\n",
        "plt.ylabel(\"Loss\")\n",
        "plt.savefig(\"10d-ff-pinn-loss.png\")"
      ],
      "metadata": {
        "colab": {
          "base_uri": "https://localhost:8080/",
          "height": 283
        },
        "id": "wMqOpRhxOKza",
        "outputId": "838b8e27-8ca3-40b8-afff-1e67c5a1a517"
      },
      "execution_count": null,
      "outputs": [
        {
          "output_type": "display_data",
          "data": {
            "text/plain": [
              "<Figure size 432x288 with 1 Axes>"
            ],
            "image/png": "[encoded data removed]"
          },
          "metadata": {
            "needs_background": "light"
          }
        }
      ]
    },
    {
      "cell_type": "code",
      "source": [
        "# params"
      ],
      "metadata": {
        "id": "vrxi-r6CkTLi"
      },
      "execution_count": null,
      "outputs": []
    }
  ]
}