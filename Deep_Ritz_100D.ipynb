{
  "cells": [
    {
      "cell_type": "markdown",
      "metadata": {
        "id": "view-in-github",
        "colab_type": "text"
      },
      "source": [
        "<a href=\"https://colab.research.google.com/github/mekhanikaladvantage/vneural-pdes/blob/main/Deep_Ritz_100D.ipynb\" target=\"_parent\"><img src=\"https://colab.research.google.com/assets/colab-badge.svg\" alt=\"Open In Colab\"/></a>"
      ]
    },
    {
      "cell_type": "code",
      "execution_count": null,
      "metadata": {
        "colab": {
          "base_uri": "https://localhost:8080/"
        },
        "id": "XzymuCcB6s9J",
        "outputId": "c584fd9e-370a-493e-d1a4-3a937875537a"
      },
      "outputs": [
        {
          "output_type": "stream",
          "name": "stdout",
          "text": [
            "Looking in indexes: https://pypi.org/simple, https://us-python.pkg.dev/colab-wheels/public/simple/\n",
            "Requirement already satisfied: optax in /usr/local/lib/python3.8/dist-packages (0.1.4)\n",
            "Requirement already satisfied: jaxlib>=0.1.37 in /usr/local/lib/python3.8/dist-packages (from optax) (0.3.25+cuda11.cudnn805)\n",
            "Requirement already satisfied: jax>=0.1.55 in /usr/local/lib/python3.8/dist-packages (from optax) (0.3.25)\n",
            "Requirement already satisfied: typing-extensions>=3.10.0 in /usr/local/lib/python3.8/dist-packages (from optax) (4.4.0)\n",
            "Requirement already satisfied: chex>=0.1.5 in /usr/local/lib/python3.8/dist-packages (from optax) (0.1.6)\n",
            "Requirement already satisfied: absl-py>=0.7.1 in /usr/local/lib/python3.8/dist-packages (from optax) (1.4.0)\n",
            "Requirement already satisfied: numpy>=1.18.0 in /usr/local/lib/python3.8/dist-packages (from optax) (1.21.6)\n",
            "Requirement already satisfied: dm-tree>=0.1.5 in /usr/local/lib/python3.8/dist-packages (from chex>=0.1.5->optax) (0.1.8)\n",
            "Requirement already satisfied: toolz>=0.9.0 in /usr/local/lib/python3.8/dist-packages (from chex>=0.1.5->optax) (0.12.0)\n",
            "Requirement already satisfied: scipy>=1.5 in /usr/local/lib/python3.8/dist-packages (from jax>=0.1.55->optax) (1.7.3)\n",
            "Requirement already satisfied: opt-einsum in /usr/local/lib/python3.8/dist-packages (from jax>=0.1.55->optax) (3.3.0)\n",
            "Exception reporting mode: Context\n"
          ]
        }
      ],
      "source": [
        "'''\n",
        "Imports\n",
        "'''\n",
        "!pip install optax #must be run at the start of the session.\n",
        "\n",
        "from jax import jit, grad, vmap, value_and_grad\n",
        "from jax import random, nn\n",
        "import jax.numpy as jnp\n",
        "import matplotlib.pyplot as plt\n",
        "import numpy as np\n",
        "import optax\n",
        "import math\n",
        "\n",
        "# JAX_DEBUG_NANS=True\n",
        "JAX_DEBUG_NANS = False\n",
        "from jax.config import config\n",
        "# config.update(\"jax_debug_nans\",True)\n",
        "config.update(\"jax_debug_nans\",False)\n",
        "config.parse_flags_with_absl()\n",
        "\n",
        "#set 64 bit precision\n",
        "# JAX_ENABLE_X64=True\n",
        "JAX_ENABLE_X64=False\n",
        "\n",
        "%xmode context\n",
        "# %xmode verbose"
      ]
    },
    {
      "cell_type": "markdown",
      "metadata": {
        "id": "oQrAiHMUL8cM"
      },
      "source": [
        "Hyperparameters\n",
        "=========="
      ]
    },
    {
      "cell_type": "code",
      "execution_count": null,
      "metadata": {
        "id": "aD3IKv3b6__G"
      },
      "outputs": [],
      "source": [
        "#set hyperparameters\n",
        "\n",
        "# this creates random parameters for the weights and biases of a given node\n",
        "def random_layer_params(m:int,n:int,key, scale = 1e-2) -> tuple:\n",
        "    '''\n",
        "    currenly using the normalized Bengio-Glorot initialization.\n",
        "    '''\n",
        "    w_key, b_key = random.split(key)\n",
        "    # return scale * random.normal(w_key,(n,m)), scale * random.normal(b_key,(n,1))\n",
        "    minval = -6/(jnp.sqrt(m + n)) \n",
        "    # minval = 1\n",
        "    maxval = -1*minval\n",
        "    # maxval = 2\n",
        "    w = scale * random.uniform(w_key,(n,m),minval = minval,maxval = maxval) #n x m\n",
        "    b = scale * random.uniform(b_key,(n,),minval = minval,maxval = maxval) # vector of length n, 1 dimensional.\n",
        "    return w,b \n",
        "\n",
        "# this should initalize nodes\n",
        "def init_network_params(sizes:list,key) -> list:\n",
        "    keys = random.split(key, len(sizes))\n",
        "    return [random_layer_params(m,n,k) for m,n,k in zip(sizes[:-1],sizes[1:],keys)]\n",
        "\n",
        "\n",
        "hypers = dict()\n",
        "hypers[\"d\"] = 100 #specified in exp\n",
        "hypers[\"m\"] = 100 # specified in exp\n",
        "# hypers[\"m\"] = 200\n",
        "# hypers[\"m\"] = 400\n",
        "hypers[\"step size\"] = 2e-04\n",
        "hypers[\"num epochs\"] = 50000 # specified in experiment\n",
        "# hypers[\"num epochs\"] = int(1e5)\n",
        "hypers[\"batch size\"] = 1000 #specified in experiement\n",
        "hypers[\"boundary size\"] = 100 #specified in experiment\n",
        "# hypers['boundary size'] = 50\n",
        "hypers[\"beta\"] = 10**3 # specfified in experiment\n",
        "\n",
        "layer_sizes = [hypers[\"d\"],hypers[\"m\"],hypers[\"m\"],hypers[\"m\"],hypers[\"m\"],hypers[\"m\"],hypers[\"m\"],1]\n",
        "# layer_sizes = [hypers[\"d\"],hypers[\"m\"],hypers[\"m\"],1] # 1 hidden layer\n",
        "# layer_sizes = [hypers[\"d\"],hypers[\"m\"],hypers[\"m\"],hypers[\"m\"],1] #2 hidden layers\n",
        "# layer_sizes = [hypers[\"d\"],hypers[\"m\"],1]\n",
        "\n",
        "params = init_network_params(layer_sizes,random.PRNGKey(0))\n",
        "# params = init_network_params(layer_sizes,subkey)\n",
        "\n",
        "\n",
        "# key, subkey = random.split(key) #this enables us to not fix the initial parameters\n",
        "\n",
        "optimizer = optax.adam(learning_rate = hypers[\"step size\"])\n",
        "\n"
      ]
    },
    {
      "cell_type": "code",
      "execution_count": null,
      "metadata": {
        "id": "yjDQqRTUhGSM"
      },
      "outputs": [],
      "source": []
    },
    {
      "cell_type": "markdown",
      "metadata": {
        "id": "GQrLtyGdQmCM"
      },
      "source": [
        "Model\n",
        "====="
      ]
    },
    {
      "cell_type": "code",
      "execution_count": null,
      "metadata": {
        "id": "QqWZCg8dqaqJ"
      },
      "outputs": [],
      "source": [
        "from jaxlib.xla_extension import DeviceArray\n",
        "compiled_celu = jit(nn.celu)\n",
        "compiled_softplus = jit(nn.softplus)\n",
        "\n",
        "\n",
        "def relu(x) -> np.float32:\n",
        "  return jnp.maximum(0,x**3) #propogates NaNs\n",
        "\n",
        "def model(params:list,x:DeviceArray) -> np.float32:\n",
        "    # print(\"shape of input is {}\".format(x.shape))\n",
        "    '''\n",
        "    params: list of weight, bias tuples. \n",
        "    x: Input vector. Should be shape (10,)\n",
        "    '''\n",
        "\n",
        "    w,b = params[0]\n",
        "    # print(w.shape)\n",
        "    output = jnp.dot(w,x) + b\n",
        "    # print(f'shape of activations is {output.shape}')\n",
        "    activations = relu(output)\n",
        "    #relu propogates nans\n",
        "    residual = activations #will be used for skip connection, needs right dim\n",
        "    #evenness counter\n",
        "    layer_number = 1\n",
        "    i = 0\n",
        "    # print(\"activations before lin transform is {}\".format(activations))\n",
        "    \n",
        "    for w,b in params[1:-1]: #first and last params are for linear transformation\n",
        "        # output = jnp.add(jnp.dot(w,activations),b)\n",
        "        output = jnp.dot(w,activations) + b\n",
        "        # print(\"output of transform before relu is {}\".format(output))\n",
        "        \n",
        "        activations = relu(output)\n",
        "        \n",
        "        # print(f'activation shape: \\n {activations.shape}')\n",
        "        if i%2 == 0: #only have skip connection on even blocks\n",
        "            activations += residual #add skip connection\n",
        "            residual = activations #update residual\n",
        "            # print(f'skip after layer {layer_number}')\n",
        "        layer_number += 1\n",
        "        i += 1\n",
        "        # # # print(\"activations after transform is {}\".format(activations))\n",
        "        \n",
        "    final_w,final_b = params[-1] \n",
        "    logits = jnp.dot(final_w,activations) + final_b\n",
        "    return logits[0]\n",
        "\n",
        "\n",
        "    #######\n",
        "\n",
        "batched_model = vmap(model,in_axes=(None,0)) "
      ]
    },
    {
      "cell_type": "code",
      "execution_count": null,
      "metadata": {
        "colab": {
          "base_uri": "https://localhost:8080/"
        },
        "id": "jBQFz36FwLHH",
        "outputId": "e7834c82-0ef8-4d6f-b6aa-15df2bc251c3"
      },
      "outputs": [
        {
          "output_type": "stream",
          "name": "stdout",
          "text": [
            "0.0047450485\n"
          ]
        }
      ],
      "source": [
        "# model debugging\n",
        "x = jnp.ones(shape=(100,))\n",
        "# print(x.shape)\n",
        "out = model(params,x) # 0.004663214\n",
        "print(out)"
      ]
    },
    {
      "cell_type": "markdown",
      "metadata": {
        "id": "5BXOP_KFyBQr"
      },
      "source": [
        "Batching\n",
        "========\n",
        "The domain is $(0,1)^{100}$, and the boundary is thus $\\partial(0,1)^{100}$. I need to figure out how to sample from all of the hyperplanes, and there are a lot. "
      ]
    },
    {
      "cell_type": "code",
      "execution_count": null,
      "metadata": {
        "id": "wy7Qfoe7wOuT"
      },
      "outputs": [],
      "source": [
        "'''\n",
        "Batching\n",
        "'''\n",
        "key, subkey = random.split(random.PRNGKey(0))\n",
        "#  #need static argums batch dim size\n",
        "\n",
        "nudge = jnp.finfo(np.float32).tiny\n",
        "# print(nudge)\n",
        "\n",
        "\n",
        "def get_batch(batch_size:int,key:DeviceArray) -> DeviceArray:\n",
        "  return random.uniform(key,shape = (batch_size,hypers[\"d\"]),minval=jnp.nextafter(0,jnp.inf),maxval=1)\n",
        "  # nextafter necessary since uniform samples [minval,maxval). We want (minval,maxval).\n",
        "\n",
        "\n",
        "\n",
        "ones = jnp.ones(shape=(hypers[\"boundary size\"],))\n",
        "zeros = jnp.zeros(shape=(hypers[\"boundary size\"],))\n",
        "\n",
        "\n",
        "def get_boundary_batch(bdy_batch_size:int,key:DeviceArray) -> DeviceArray:\n",
        "  keys = random.split(key,num=3)\n",
        "  # we have two extra keys bc we need them for sampling\n",
        "  samples = [] \n",
        "  bdy_planes = [] #will keep every boundary section in a list\n",
        "  # and then concatenate everything together\n",
        "  high_end = jnp.nextafter(1,jnp.inf)\n",
        "\n",
        "  for i in range(hypers[\"d\"]):\n",
        "    sample_1 = random.uniform(keys[0],shape=(bdy_batch_size,hypers[\"d\"]-1),minval=0,maxval=high_end) #batch_size x 9\n",
        "    bdy_with_ones = jnp.column_stack((sample_1[:,:i],ones,sample_1[:,i:]))\n",
        "    bdy_planes.append(bdy_with_ones)\n",
        "    # print(bdy_planes)\n",
        "\n",
        "    sample_0 = random.uniform(keys[1],shape=(bdy_batch_size,hypers[\"d\"] - 1),minval=0,maxval=high_end)\n",
        "    bdy_with_zeros = jnp.column_stack((sample_0[:,:i],zeros,sample_0[:,i:]))\n",
        "    bdy_planes.append(bdy_with_zeros)\n",
        "\n",
        "    keys = random.split(keys[-1],num=3)\n",
        "  #end\n",
        "\n",
        "  return jnp.concatenate(bdy_planes[:],axis=0)\n",
        "\n",
        "\n",
        "\n",
        "# ones = jnp.ones(shape=(4,))\n",
        "# zeros = jnp.zeros(shape=(4),)\n",
        "# boundary = get_boundary_batch(hypers[\"boundary size\"],subkey)\n",
        "# interior = get_batch(4,subkey)\n",
        "# print(interior)\n",
        "# print(boundary[395:405])\n",
        "# print(f'shape of boundary is {boundary.shape}')"
      ]
    },
    {
      "cell_type": "code",
      "execution_count": null,
      "metadata": {
        "colab": {
          "base_uri": "https://localhost:8080/"
        },
        "id": "HLRpbouplAtc",
        "outputId": "ca2e8501-ea3f-4efe-b1b0-02a70df7b17f"
      },
      "outputs": [
        {
          "output_type": "stream",
          "name": "stdout",
          "text": [
            "\n",
            "[[1. 1. 1. 1. 1. 0. 1. 1. 1. 1. 1.]\n",
            " [1. 1. 1. 1. 1. 0. 1. 1. 1. 1. 1.]\n",
            " [1. 1. 1. 1. 1. 0. 1. 1. 1. 1. 1.]\n",
            " [1. 1. 1. 1. 1. 0. 1. 1. 1. 1. 1.]\n",
            " [1. 1. 1. 1. 1. 0. 1. 1. 1. 1. 1.]\n",
            " [1. 1. 1. 1. 1. 0. 1. 1. 1. 1. 1.]\n",
            " [1. 1. 1. 1. 1. 0. 1. 1. 1. 1. 1.]\n",
            " [1. 1. 1. 1. 1. 0. 1. 1. 1. 1. 1.]\n",
            " [1. 1. 1. 1. 1. 0. 1. 1. 1. 1. 1.]\n",
            " [1. 1. 1. 1. 1. 0. 1. 1. 1. 1. 1.]]\n"
          ]
        }
      ],
      "source": [
        "'''\n",
        "testing block - batching\n",
        "'''\n",
        "x = jnp.ones(shape=(10,10))\n",
        "y = jnp.zeros(shape=(10,))\n",
        "z = [x, y]\n",
        "# delta = jnp.concatenate(z[:],axis=0)\n",
        "stacks = []\n",
        "print()\n",
        "for i in range(len(x[0]) + 1):\n",
        "  stack = jnp.column_stack((x[:,:i],y,x[:,i:]))\n",
        "  stacks.append(stack)\n",
        "\n",
        "output = jnp.concatenate(stacks[:],axis=0)\n",
        "print(output[50:60,:])"
      ]
    },
    {
      "cell_type": "markdown",
      "metadata": {
        "id": "mmfK8Y8IQrqB"
      },
      "source": [
        "Loss and Update\n",
        "====="
      ]
    },
    {
      "cell_type": "code",
      "execution_count": null,
      "metadata": {
        "id": "tt4XaWPCMOCL"
      },
      "outputs": [],
      "source": [
        "'''\n",
        "loss and update block\n",
        "'''\n",
        "\n",
        "from optax._src.base import OptState\n",
        "from chex._src.pytypes import Device\n",
        "from jax._src.random import KeyArray\n",
        "\n",
        "def exact(x:DeviceArray) -> np.float32:\n",
        "  #this function doubles as the boundary condition and also the exact solution to the problem. \n",
        "  return sum(x*x)\n",
        "\n",
        "exact_vector = vmap(exact,in_axes=0)\n",
        "\n",
        "def flow_loss_fn(params:list,x:DeviceArray) -> np.float32:\n",
        "  '''\n",
        "  flow loss calculated on 1 2D sample in order to have scalar output.\n",
        "  The scalar output of the model necessary for autograd to work.\n",
        "  '''\n",
        "  dudx = grad(model,argnums=1)(params,x) # compute gradient wrt sample\n",
        "  # print(f'shape of gradient is {dudx.shape}')\n",
        "  # print(f'gradient is {dudx}')\n",
        "  # print(f'gradient squared is {dudx*dudx}')\n",
        "  return 0.5*(jnp.sum(dudx*dudx) + 200*model(params,x)) #since f = -200\n",
        "  \n",
        "\n",
        "flow_loss_vector = vmap(flow_loss_fn,in_axes=(None,0)) \n",
        "\n",
        "def loss_fn(params:list,key:KeyArray) -> np.float32:\n",
        "# def loss_fn(params:list,interior_sample,boundary_sample):\n",
        "  '''\n",
        "  this function samples data and calculates the loss.\n",
        "  Please note that this function MUST be differentiable.\n",
        "  The loss consists of two parts, an flow loss given by the energy,\n",
        "  and a boundary loss to enforce boundary conditions. \n",
        "  '''\n",
        "  # generate data\n",
        "  keys = random.split(key,num=2)\n",
        "  interior_sample = get_batch(hypers[\"batch size\"],keys[0])\n",
        "  boundary_sample = get_boundary_batch(hypers[\"boundary size\"],keys[1])\n",
        "  \n",
        "  #calculate flow loss\n",
        "  flow_output = flow_loss_vector(params,interior_sample)\n",
        "  flow_loss = jnp.mean(flow_output) \n",
        "\n",
        "  #calculate boundary loss\n",
        "  # bdy_loss = beta*jnp.mean(batched_model(params,boundary_sample)*batched_model(params,boundary_sample))\n",
        "  bdy_output = batched_model(params,boundary_sample)\n",
        "  exact_output = exact_vector(boundary_sample)\n",
        "  bdy_diff = exact_output - bdy_output\n",
        "  # print(f'bdy_diff is {bdy_diff}')\n",
        "  bdy_loss = hypers[\"beta\"]*jnp.mean(bdy_diff*bdy_diff)\n",
        "\n",
        "  return jnp.add(flow_loss,bdy_loss)\n",
        "\n",
        "def update(params:list,opt_state:OptState,key:KeyArray):\n",
        "# def update(params:list,opt_state:OptState,interior_sample,boundary_sample):\n",
        "  '''\n",
        "  This calculates the parameter updates using the ADAM algorithm,\n",
        "  as implemented in optax.\n",
        "  '''\n",
        "\n",
        "  loss,grads = value_and_grad(loss_fn,argnums=0)(params,key)\n",
        "  # loss,grads = value_and_grad(loss_fn,argnums=0)(params,interior_sample,boundary_sample)\n",
        "\n",
        "  updates,opt_state = optimizer.update(grads,opt_state,params)\n",
        "  params = optax.apply_updates(params,updates)\n",
        "\n",
        "  return params,opt_state,loss\n",
        "\n",
        "#jit update for moar speed\n",
        "compiled_update = jit(update)"
      ]
    },
    {
      "cell_type": "code",
      "execution_count": null,
      "metadata": {
        "colab": {
          "base_uri": "https://localhost:8080/",
          "height": 35
        },
        "id": "5GvHPoL8SV9X",
        "outputId": "21f6abd1-a503-4dc0-9c82-6216f2d575ff"
      },
      "outputs": [
        {
          "output_type": "execute_result",
          "data": {
            "text/plain": [
              "'\\ndebugging block - loss and update\\n'"
            ],
            "application/vnd.google.colaboratory.intrinsic+json": {
              "type": "string"
            }
          },
          "metadata": {},
          "execution_count": 22
        }
      ],
      "source": [
        "'''\n",
        "debugging block - loss and update\n",
        "'''\n",
        "# x = 2*jnp.ones(shape=(10,10))\n",
        "# y = loss_fn(params,random.PRNGKey(2))\n",
        "# print(y) # should be 5 "
      ]
    },
    {
      "cell_type": "markdown",
      "metadata": {
        "id": "fmWzS6JQMDD_"
      },
      "source": [
        "Training Loop\n",
        "==========="
      ]
    },
    {
      "cell_type": "code",
      "execution_count": null,
      "metadata": {
        "colab": {
          "base_uri": "https://localhost:8080/"
        },
        "id": "NvnpW9nVUT5Q",
        "outputId": "9c4ca7a7-c332-46f5-bec3-e97daf580bbe"
      },
      "outputs": [
        {
          "output_type": "stream",
          "name": "stdout",
          "text": [
            "Exception reporting mode: Context\n"
          ]
        }
      ],
      "source": [
        "#reset key\n",
        "key, train_key = random.split(random.PRNGKey(0))\n",
        "params = init_network_params(layer_sizes,train_key)\n",
        "\n",
        "%xmode context\n",
        "# %xmode verbose\n"
      ]
    },
    {
      "cell_type": "code",
      "execution_count": null,
      "metadata": {
        "colab": {
          "base_uri": "https://localhost:8080/",
          "height": 1000
        },
        "id": "2YcCxd6eUUpT",
        "outputId": "5def0463-0eeb-4f6f-de9d-765343fba541"
      },
      "outputs": [
        {
          "output_type": "stream",
          "name": "stdout",
          "text": [
            "---------------\n",
            "Epoch 0 in 27.97 additional seconds\n",
            "Interior relative error is 0.9998473525047302\n",
            "Boundary relative error is 0.9998477697372437\n",
            "Total loss is 1.1297e+06\n",
            "---------------\n",
            "Epoch 500 in 4.10 additional seconds\n",
            "Interior relative error is 0.9718774557113647\n",
            "Boundary relative error is 0.9718672633171082\n",
            "Total loss is 1.0682e+06\n",
            "---------------\n",
            "Epoch 1000 in 4.03 additional seconds\n",
            "Interior relative error is 0.9696247577667236\n",
            "Boundary relative error is 0.969631552696228\n",
            "Total loss is 1.0629e+06\n",
            "---------------\n",
            "Epoch 1500 in 4.13 additional seconds\n",
            "Interior relative error is 0.9665240049362183\n",
            "Boundary relative error is 0.966647207736969\n",
            "Total loss is 1.0557e+06\n",
            "---------------\n",
            "Epoch 2000 in 4.06 additional seconds\n",
            "Interior relative error is 0.9624979496002197\n",
            "Boundary relative error is 0.9627506732940674\n",
            "Total loss is 1.0508e+06\n",
            "---------------\n",
            "Epoch 2500 in 4.16 additional seconds\n",
            "Interior relative error is 0.958233654499054\n",
            "Boundary relative error is 0.9582459330558777\n",
            "Total loss is 1.0394e+06\n",
            "---------------\n",
            "Epoch 3000 in 4.08 additional seconds\n",
            "Interior relative error is 0.9527220726013184\n",
            "Boundary relative error is 0.9529439806938171\n",
            "Total loss is 1.0278e+06\n",
            "---------------\n",
            "Epoch 3500 in 4.09 additional seconds\n",
            "Interior relative error is 0.9464519023895264\n",
            "Boundary relative error is 0.9467747807502747\n",
            "Total loss is 1.0159e+06\n",
            "---------------\n",
            "Epoch 4000 in 4.09 additional seconds\n",
            "Interior relative error is 0.7938928604125977\n",
            "Boundary relative error is 0.7730555534362793\n",
            "Total loss is 6.8088e+05\n",
            "---------------\n",
            "Epoch 4500 in 4.11 additional seconds\n",
            "Interior relative error is 0.3484489321708679\n",
            "Boundary relative error is 0.3447660207748413\n",
            "Total loss is 1.3848e+05\n",
            "---------------\n",
            "Epoch 5000 in 4.12 additional seconds\n",
            "Interior relative error is 0.22554191946983337\n",
            "Boundary relative error is 0.2251906543970108\n",
            "Total loss is 6.1323e+04\n"
          ]
        },
        {
          "output_type": "display_data",
          "data": {
            "text/plain": [
              "<Figure size 432x288 with 0 Axes>"
            ]
          },
          "metadata": {}
        },
        {
          "output_type": "display_data",
          "data": {
            "text/plain": [
              "<Figure size 432x288 with 2 Axes>"
            ],
            "image/png": "[encoded data removed]"
          },
          "metadata": {
            "needs_background": "light"
          }
        },
        {
          "output_type": "stream",
          "name": "stdout",
          "text": [
            "---------------\n",
            "Epoch 5500 in 5.15 additional seconds\n",
            "Interior relative error is 0.20618924498558044\n",
            "Boundary relative error is 0.21425335109233856\n",
            "Total loss is 5.5887e+04\n",
            "---------------\n",
            "Epoch 6000 in 4.15 additional seconds\n",
            "Interior relative error is 0.18235881626605988\n",
            "Boundary relative error is 0.18537482619285583\n",
            "Total loss is 4.2681e+04\n",
            "---------------\n",
            "Epoch 6500 in 4.22 additional seconds\n",
            "Interior relative error is 0.12405689060688019\n",
            "Boundary relative error is 0.12694476544857025\n",
            "Total loss is 2.1848e+04\n",
            "---------------\n",
            "Epoch 7000 in 4.17 additional seconds\n",
            "Interior relative error is 0.10948339849710464\n",
            "Boundary relative error is 0.11195973306894302\n",
            "Total loss is 1.7817e+04\n",
            "---------------\n",
            "Epoch 7500 in 4.19 additional seconds\n",
            "Interior relative error is 0.11043604463338852\n",
            "Boundary relative error is 0.10138256102800369\n",
            "Total loss is 1.5130e+04\n",
            "---------------\n",
            "Epoch 8000 in 4.20 additional seconds\n",
            "Interior relative error is 0.09135104715824127\n",
            "Boundary relative error is 0.08860179036855698\n",
            "Total loss is 1.2368e+04\n",
            "---------------\n",
            "Epoch 8500 in 4.21 additional seconds\n",
            "Interior relative error is 0.07814039289951324\n",
            "Boundary relative error is 0.08115911483764648\n",
            "Total loss is 1.0885e+04\n",
            "---------------\n",
            "Epoch 9000 in 4.22 additional seconds\n",
            "Interior relative error is 0.07145195454359055\n",
            "Boundary relative error is 0.07191016525030136\n",
            "Total loss is 9.3212e+03\n",
            "---------------\n",
            "Epoch 9500 in 4.22 additional seconds\n",
            "Interior relative error is 0.07127925008535385\n",
            "Boundary relative error is 0.07230244576931\n",
            "Total loss is 9.3629e+03\n",
            "---------------\n",
            "Epoch 10000 in 4.29 additional seconds\n",
            "Interior relative error is 0.07325593382120132\n",
            "Boundary relative error is 0.06583036482334137\n",
            "Total loss is 8.3333e+03\n"
          ]
        },
        {
          "output_type": "display_data",
          "data": {
            "text/plain": [
              "<Figure size 432x288 with 0 Axes>"
            ]
          },
          "metadata": {}
        },
        {
          "output_type": "display_data",
          "data": {
            "text/plain": [
              "<Figure size 432x288 with 2 Axes>"
            ],
            "image/png": "[encoded data removed]"
          },
          "metadata": {
            "needs_background": "light"
          }
        },
        {
          "output_type": "stream",
          "name": "stdout",
          "text": [
            "---------------\n",
            "Epoch 10500 in 5.01 additional seconds\n",
            "Interior relative error is 0.05811481177806854\n",
            "Boundary relative error is 0.05784539133310318\n",
            "Total loss is 7.1993e+03\n",
            "---------------\n",
            "Epoch 11000 in 4.20 additional seconds\n",
            "Interior relative error is 0.0484028197824955\n",
            "Boundary relative error is 0.05220040678977966\n",
            "Total loss is 6.4972e+03\n",
            "---------------\n",
            "Epoch 11500 in 4.20 additional seconds\n",
            "Interior relative error is 0.047507088631391525\n",
            "Boundary relative error is 0.04798742011189461\n",
            "Total loss is 5.9981e+03\n",
            "---------------\n",
            "Epoch 12000 in 4.29 additional seconds\n",
            "Interior relative error is 0.04448669031262398\n",
            "Boundary relative error is 0.044468097388744354\n",
            "Total loss is 5.6364e+03\n",
            "---------------\n",
            "Epoch 12500 in 4.19 additional seconds\n",
            "Interior relative error is 0.04238679260015488\n",
            "Boundary relative error is 0.04308398813009262\n",
            "Total loss is 5.4930e+03\n",
            "---------------\n",
            "Epoch 13000 in 4.28 additional seconds\n",
            "Interior relative error is 0.04181281104683876\n",
            "Boundary relative error is 0.04177333042025566\n",
            "Total loss is 5.3863e+03\n",
            "---------------\n",
            "Epoch 13500 in 4.20 additional seconds\n",
            "Interior relative error is 0.038099803030490875\n",
            "Boundary relative error is 0.03939279168844223\n",
            "Total loss is 5.1633e+03\n",
            "---------------\n",
            "Epoch 14000 in 4.26 additional seconds\n",
            "Interior relative error is 0.041829586029052734\n",
            "Boundary relative error is 0.037856291979551315\n",
            "Total loss is 5.0225e+03\n",
            "---------------\n",
            "Epoch 14500 in 4.19 additional seconds\n",
            "Interior relative error is 0.036752499639987946\n",
            "Boundary relative error is 0.0361626110970974\n",
            "Total loss is 4.8799e+03\n",
            "---------------\n",
            "Epoch 15000 in 4.27 additional seconds\n",
            "Interior relative error is 0.03466494008898735\n",
            "Boundary relative error is 0.03462521731853485\n",
            "Total loss is 4.7616e+03\n"
          ]
        },
        {
          "output_type": "display_data",
          "data": {
            "text/plain": [
              "<Figure size 432x288 with 0 Axes>"
            ]
          },
          "metadata": {}
        },
        {
          "output_type": "display_data",
          "data": {
            "text/plain": [
              "<Figure size 432x288 with 2 Axes>"
            ],
            "image/png": "[encoded data removed]"
          },
          "metadata": {
            "needs_background": "light"
          }
        },
        {
          "output_type": "stream",
          "name": "stdout",
          "text": [
            "---------------\n",
            "Epoch 15500 in 5.10 additional seconds\n",
            "Interior relative error is 0.03364571928977966\n",
            "Boundary relative error is 0.03309125453233719\n",
            "Total loss is 4.6518e+03\n",
            "---------------\n",
            "Epoch 16000 in 4.27 additional seconds\n",
            "Interior relative error is 0.032773397862911224\n",
            "Boundary relative error is 0.032380275428295135\n",
            "Total loss is 4.5887e+03\n",
            "---------------\n",
            "Epoch 16500 in 4.20 additional seconds\n",
            "Interior relative error is 0.030705681070685387\n",
            "Boundary relative error is 0.031300630420446396\n",
            "Total loss is 4.5082e+03\n",
            "---------------\n",
            "Epoch 17000 in 4.27 additional seconds\n",
            "Interior relative error is 0.029472921043634415\n",
            "Boundary relative error is 0.030235854908823967\n",
            "Total loss is 4.4303e+03\n",
            "---------------\n",
            "Epoch 17500 in 4.20 additional seconds\n",
            "Interior relative error is 0.033889640122652054\n",
            "Boundary relative error is 0.03314783424139023\n",
            "Total loss is 4.6431e+03\n",
            "---------------\n",
            "Epoch 18000 in 4.28 additional seconds\n",
            "Interior relative error is 0.02703602984547615\n",
            "Boundary relative error is 0.027280282229185104\n",
            "Total loss is 4.2464e+03\n",
            "---------------\n",
            "Epoch 18500 in 4.20 additional seconds\n",
            "Interior relative error is 0.027433376759290695\n",
            "Boundary relative error is 0.0267051849514246\n",
            "Total loss is 4.1927e+03\n",
            "---------------\n",
            "Epoch 19000 in 4.20 additional seconds\n",
            "Interior relative error is 0.026726044714450836\n",
            "Boundary relative error is 0.026620464399456978\n",
            "Total loss is 4.1951e+03\n",
            "---------------\n",
            "Epoch 19500 in 4.19 additional seconds\n",
            "Interior relative error is 0.02735750935971737\n",
            "Boundary relative error is 0.026084262877702713\n",
            "Total loss is 4.1767e+03\n",
            "---------------\n",
            "Epoch 20000 in 4.20 additional seconds\n",
            "Interior relative error is 0.02561415359377861\n",
            "Boundary relative error is 0.026398073881864548\n",
            "Total loss is 4.1964e+03\n"
          ]
        },
        {
          "output_type": "display_data",
          "data": {
            "text/plain": [
              "<Figure size 432x288 with 0 Axes>"
            ]
          },
          "metadata": {}
        },
        {
          "output_type": "display_data",
          "data": {
            "text/plain": [
              "<Figure size 432x288 with 2 Axes>"
            ],
            "image/png": "[encoded data removed]"
          },
          "metadata": {
            "needs_background": "light"
          }
        },
        {
          "output_type": "stream",
          "name": "stdout",
          "text": [
            "---------------\n",
            "Epoch 20500 in 5.25 additional seconds\n",
            "Interior relative error is 0.02700011618435383\n",
            "Boundary relative error is 0.02590452879667282\n",
            "Total loss is 4.1564e+03\n",
            "---------------\n",
            "Epoch 21000 in 4.19 additional seconds\n",
            "Interior relative error is 0.026199445128440857\n",
            "Boundary relative error is 0.025745783001184464\n",
            "Total loss is 4.1389e+03\n",
            "---------------\n",
            "Epoch 21500 in 4.19 additional seconds\n",
            "Interior relative error is 0.02576950006186962\n",
            "Boundary relative error is 0.025381339713931084\n",
            "Total loss is 4.1181e+03\n",
            "---------------\n",
            "Epoch 22000 in 4.20 additional seconds\n",
            "Interior relative error is 0.025481510907411575\n",
            "Boundary relative error is 0.025478731840848923\n",
            "Total loss is 4.1539e+03\n",
            "---------------\n",
            "Epoch 22500 in 4.20 additional seconds\n",
            "Interior relative error is 0.026355428621172905\n",
            "Boundary relative error is 0.02487260103225708\n",
            "Total loss is 4.0916e+03\n",
            "---------------\n",
            "Epoch 23000 in 4.20 additional seconds\n",
            "Interior relative error is 0.025499533861875534\n",
            "Boundary relative error is 0.024831334128975868\n",
            "Total loss is 4.0797e+03\n",
            "---------------\n",
            "Epoch 23500 in 4.20 additional seconds\n",
            "Interior relative error is 0.025181686505675316\n",
            "Boundary relative error is 0.02428264543414116\n",
            "Total loss is 4.0560e+03\n",
            "---------------\n",
            "Epoch 24000 in 4.20 additional seconds\n",
            "Interior relative error is 0.02474001981317997\n",
            "Boundary relative error is 0.024202631786465645\n",
            "Total loss is 4.0702e+03\n",
            "---------------\n",
            "Epoch 24500 in 4.20 additional seconds\n",
            "Interior relative error is 0.024034401401877403\n",
            "Boundary relative error is 0.02423151396214962\n",
            "Total loss is 4.0607e+03\n",
            "---------------\n",
            "Epoch 25000 in 4.20 additional seconds\n",
            "Interior relative error is 0.02412881702184677\n",
            "Boundary relative error is 0.024205205962061882\n",
            "Total loss is 4.0442e+03\n"
          ]
        },
        {
          "output_type": "display_data",
          "data": {
            "text/plain": [
              "<Figure size 432x288 with 0 Axes>"
            ]
          },
          "metadata": {}
        },
        {
          "output_type": "display_data",
          "data": {
            "text/plain": [
              "<Figure size 432x288 with 2 Axes>"
            ],
            "image/png": "[encoded data removed]"
          },
          "metadata": {
            "needs_background": "light"
          }
        },
        {
          "output_type": "stream",
          "name": "stdout",
          "text": [
            "---------------\n",
            "Epoch 25500 in 5.13 additional seconds\n",
            "Interior relative error is 0.024085624143481255\n",
            "Boundary relative error is 0.023807181045413017\n",
            "Total loss is 4.0215e+03\n",
            "---------------\n",
            "Epoch 26000 in 4.19 additional seconds\n",
            "Interior relative error is 0.024003995582461357\n",
            "Boundary relative error is 0.023798441514372826\n",
            "Total loss is 4.0209e+03\n",
            "---------------\n",
            "Epoch 26500 in 4.19 additional seconds\n",
            "Interior relative error is 0.02388848178088665\n",
            "Boundary relative error is 0.023679329082369804\n",
            "Total loss is 4.0286e+03\n",
            "---------------\n",
            "Epoch 27000 in 4.21 additional seconds\n",
            "Interior relative error is 0.024681350216269493\n",
            "Boundary relative error is 0.023695342242717743\n",
            "Total loss is 4.0342e+03\n",
            "---------------\n",
            "Epoch 27500 in 4.29 additional seconds\n",
            "Interior relative error is 0.025071313604712486\n",
            "Boundary relative error is 0.023770367726683617\n",
            "Total loss is 4.0401e+03\n",
            "---------------\n",
            "Epoch 28000 in 4.20 additional seconds\n",
            "Interior relative error is 0.023714909330010414\n",
            "Boundary relative error is 0.023833734914660454\n",
            "Total loss is 4.0422e+03\n",
            "---------------\n",
            "Epoch 28500 in 4.27 additional seconds\n",
            "Interior relative error is 0.023829417303204536\n",
            "Boundary relative error is 0.023390861228108406\n",
            "Total loss is 4.0133e+03\n",
            "---------------\n",
            "Epoch 29000 in 4.20 additional seconds\n",
            "Interior relative error is 0.023928798735141754\n",
            "Boundary relative error is 0.023426678031682968\n",
            "Total loss is 4.0204e+03\n",
            "---------------\n",
            "Epoch 29500 in 4.30 additional seconds\n",
            "Interior relative error is 0.02460857667028904\n",
            "Boundary relative error is 0.023410996422171593\n",
            "Total loss is 4.0108e+03\n",
            "---------------\n",
            "Epoch 30000 in 4.20 additional seconds\n",
            "Interior relative error is 0.023986846208572388\n",
            "Boundary relative error is 0.023356126621365547\n",
            "Total loss is 4.0018e+03\n"
          ]
        },
        {
          "output_type": "display_data",
          "data": {
            "text/plain": [
              "<Figure size 432x288 with 0 Axes>"
            ]
          },
          "metadata": {}
        },
        {
          "output_type": "display_data",
          "data": {
            "text/plain": [
              "<Figure size 432x288 with 2 Axes>"
            ],
            "image/png": "[encoded data removed]"
          },
          "metadata": {
            "needs_background": "light"
          }
        },
        {
          "output_type": "stream",
          "name": "stdout",
          "text": [
            "---------------\n",
            "Epoch 30500 in 5.37 additional seconds\n",
            "Interior relative error is 0.02489391714334488\n",
            "Boundary relative error is 0.023210572078824043\n",
            "Total loss is 4.0033e+03\n",
            "---------------\n",
            "Epoch 31000 in 4.20 additional seconds\n",
            "Interior relative error is 0.024265779182314873\n",
            "Boundary relative error is 0.02347869984805584\n",
            "Total loss is 3.9968e+03\n",
            "---------------\n",
            "Epoch 31500 in 4.27 additional seconds\n",
            "Interior relative error is 0.024146676063537598\n",
            "Boundary relative error is 0.02348078042268753\n",
            "Total loss is 4.0090e+03\n",
            "---------------\n",
            "Epoch 32000 in 4.20 additional seconds\n",
            "Interior relative error is 0.0238393172621727\n",
            "Boundary relative error is 0.023349694907665253\n",
            "Total loss is 4.0034e+03\n",
            "---------------\n",
            "Epoch 32500 in 4.28 additional seconds\n",
            "Interior relative error is 0.023692511022090912\n",
            "Boundary relative error is 0.023484906181693077\n",
            "Total loss is 4.0168e+03\n",
            "---------------\n",
            "Epoch 33000 in 4.20 additional seconds\n",
            "Interior relative error is 0.024093329906463623\n",
            "Boundary relative error is 0.0235137902200222\n",
            "Total loss is 4.0279e+03\n",
            "---------------\n",
            "Epoch 33500 in 4.29 additional seconds\n",
            "Interior relative error is 0.023366522043943405\n",
            "Boundary relative error is 0.023353394120931625\n",
            "Total loss is 3.9979e+03\n",
            "---------------\n",
            "Epoch 34000 in 4.20 additional seconds\n",
            "Interior relative error is 0.022644557058811188\n",
            "Boundary relative error is 0.023464826866984367\n",
            "Total loss is 4.0140e+03\n",
            "---------------\n",
            "Epoch 34500 in 4.20 additional seconds\n",
            "Interior relative error is 0.023532435297966003\n",
            "Boundary relative error is 0.023074235767126083\n",
            "Total loss is 3.9929e+03\n",
            "---------------\n",
            "Epoch 35000 in 4.19 additional seconds\n",
            "Interior relative error is 0.022767329588532448\n",
            "Boundary relative error is 0.023201461881399155\n",
            "Total loss is 4.0034e+03\n"
          ]
        },
        {
          "output_type": "display_data",
          "data": {
            "text/plain": [
              "<Figure size 432x288 with 0 Axes>"
            ]
          },
          "metadata": {}
        },
        {
          "output_type": "display_data",
          "data": {
            "text/plain": [
              "<Figure size 432x288 with 2 Axes>"
            ],
            "image/png": "[encoded data removed]"
          },
          "metadata": {
            "needs_background": "light"
          }
        },
        {
          "output_type": "stream",
          "name": "stdout",
          "text": [
            "---------------\n",
            "Epoch 35500 in 5.90 additional seconds\n",
            "Interior relative error is 0.023719491437077522\n",
            "Boundary relative error is 0.023249559104442596\n",
            "Total loss is 4.0101e+03\n",
            "---------------\n",
            "Epoch 36000 in 4.19 additional seconds\n",
            "Interior relative error is 0.02409120462834835\n",
            "Boundary relative error is 0.023366939276456833\n",
            "Total loss is 4.0082e+03\n",
            "---------------\n",
            "Epoch 36500 in 4.28 additional seconds\n",
            "Interior relative error is 0.02363554947078228\n",
            "Boundary relative error is 0.023336878046393394\n",
            "Total loss is 4.0041e+03\n",
            "---------------\n",
            "Epoch 37000 in 4.19 additional seconds\n",
            "Interior relative error is 0.023241190239787102\n",
            "Boundary relative error is 0.02322627790272236\n",
            "Total loss is 4.0050e+03\n",
            "---------------\n",
            "Epoch 37500 in 4.20 additional seconds\n",
            "Interior relative error is 0.023714328184723854\n",
            "Boundary relative error is 0.02304302155971527\n",
            "Total loss is 3.9940e+03\n",
            "---------------\n",
            "Epoch 38000 in 4.20 additional seconds\n",
            "Interior relative error is 0.02439923956990242\n",
            "Boundary relative error is 0.023192724213004112\n",
            "Total loss is 3.9862e+03\n",
            "---------------\n",
            "Epoch 38500 in 4.20 additional seconds\n",
            "Interior relative error is 0.02323746308684349\n",
            "Boundary relative error is 0.02299363724887371\n",
            "Total loss is 3.9992e+03\n",
            "---------------\n",
            "Epoch 39000 in 4.20 additional seconds\n",
            "Interior relative error is 0.02312433160841465\n",
            "Boundary relative error is 0.023188695311546326\n",
            "Total loss is 3.9921e+03\n",
            "---------------\n",
            "Epoch 39500 in 4.20 additional seconds\n",
            "Interior relative error is 0.023304881528019905\n",
            "Boundary relative error is 0.023144619539380074\n",
            "Total loss is 3.9851e+03\n",
            "---------------\n",
            "Epoch 40000 in 4.20 additional seconds\n",
            "Interior relative error is 0.02306269481778145\n",
            "Boundary relative error is 0.02299831248819828\n",
            "Total loss is 3.9990e+03\n"
          ]
        },
        {
          "output_type": "display_data",
          "data": {
            "text/plain": [
              "<Figure size 432x288 with 0 Axes>"
            ]
          },
          "metadata": {}
        },
        {
          "output_type": "display_data",
          "data": {
            "text/plain": [
              "<Figure size 432x288 with 2 Axes>"
            ],
            "image/png": "[encoded data removed]"
          },
          "metadata": {
            "needs_background": "light"
          }
        },
        {
          "output_type": "stream",
          "name": "stdout",
          "text": [
            "---------------\n",
            "Epoch 40500 in 5.28 additional seconds\n",
            "Interior relative error is 0.02370537258684635\n",
            "Boundary relative error is 0.02307206019759178\n",
            "Total loss is 3.9912e+03\n",
            "---------------\n",
            "Epoch 41000 in 4.19 additional seconds\n",
            "Interior relative error is 0.022246237844228745\n",
            "Boundary relative error is 0.02326601929962635\n",
            "Total loss is 4.0208e+03\n",
            "---------------\n",
            "Epoch 41500 in 4.19 additional seconds\n",
            "Interior relative error is 0.022786978632211685\n",
            "Boundary relative error is 0.023005692288279533\n",
            "Total loss is 4.0013e+03\n",
            "---------------\n",
            "Epoch 42000 in 4.19 additional seconds\n",
            "Interior relative error is 0.023437386378645897\n",
            "Boundary relative error is 0.02294991910457611\n",
            "Total loss is 3.9969e+03\n",
            "---------------\n",
            "Epoch 42500 in 4.19 additional seconds\n",
            "Interior relative error is 0.022380109876394272\n",
            "Boundary relative error is 0.022998157888650894\n",
            "Total loss is 3.9857e+03\n",
            "---------------\n",
            "Epoch 43000 in 4.20 additional seconds\n",
            "Interior relative error is 0.02365216426551342\n",
            "Boundary relative error is 0.02293650433421135\n",
            "Total loss is 3.9844e+03\n",
            "---------------\n",
            "Epoch 43500 in 4.20 additional seconds\n",
            "Interior relative error is 0.0228886716067791\n",
            "Boundary relative error is 0.02266179583966732\n",
            "Total loss is 3.9745e+03\n",
            "---------------\n",
            "Epoch 44000 in 4.27 additional seconds\n",
            "Interior relative error is 0.023105643689632416\n",
            "Boundary relative error is 0.023010287433862686\n",
            "Total loss is 3.9924e+03\n",
            "---------------\n",
            "Epoch 44500 in 4.20 additional seconds\n",
            "Interior relative error is 0.02318716049194336\n",
            "Boundary relative error is 0.022458897903561592\n",
            "Total loss is 3.9543e+03\n",
            "---------------\n",
            "Epoch 45000 in 4.28 additional seconds\n",
            "Interior relative error is 0.02287919446825981\n",
            "Boundary relative error is 0.02269250527024269\n",
            "Total loss is 3.9671e+03\n"
          ]
        },
        {
          "output_type": "display_data",
          "data": {
            "text/plain": [
              "<Figure size 432x288 with 0 Axes>"
            ]
          },
          "metadata": {}
        },
        {
          "output_type": "display_data",
          "data": {
            "text/plain": [
              "<Figure size 432x288 with 2 Axes>"
            ],
            "image/png": "[encoded data removed]"
          },
          "metadata": {
            "needs_background": "light"
          }
        },
        {
          "output_type": "stream",
          "name": "stdout",
          "text": [
            "---------------\n",
            "Epoch 45500 in 5.38 additional seconds\n",
            "Interior relative error is 0.022747697308659554\n",
            "Boundary relative error is 0.022438401356339455\n",
            "Total loss is 3.9561e+03\n",
            "---------------\n",
            "Epoch 46000 in 4.26 additional seconds\n",
            "Interior relative error is 0.023280343040823936\n",
            "Boundary relative error is 0.022453000769019127\n",
            "Total loss is 3.9605e+03\n",
            "---------------\n",
            "Epoch 46500 in 4.20 additional seconds\n",
            "Interior relative error is 0.021682163700461388\n",
            "Boundary relative error is 0.022075582295656204\n",
            "Total loss is 3.9376e+03\n",
            "---------------\n",
            "Epoch 47000 in 4.28 additional seconds\n",
            "Interior relative error is 0.02314160205423832\n",
            "Boundary relative error is 0.022039124742150307\n",
            "Total loss is 3.9403e+03\n",
            "---------------\n",
            "Epoch 47500 in 4.20 additional seconds\n",
            "Interior relative error is 0.02220986597239971\n",
            "Boundary relative error is 0.022167261689901352\n",
            "Total loss is 3.9340e+03\n",
            "---------------\n",
            "Epoch 48000 in 4.29 additional seconds\n",
            "Interior relative error is 0.022864624857902527\n",
            "Boundary relative error is 0.022151215001940727\n",
            "Total loss is 3.9603e+03\n",
            "---------------\n",
            "Epoch 48500 in 4.20 additional seconds\n",
            "Interior relative error is 0.023123137652873993\n",
            "Boundary relative error is 0.02235087938606739\n",
            "Total loss is 3.9493e+03\n",
            "---------------\n",
            "Epoch 49000 in 4.28 additional seconds\n",
            "Interior relative error is 0.02276981994509697\n",
            "Boundary relative error is 0.02198791690170765\n",
            "Total loss is 3.9444e+03\n",
            "---------------\n",
            "Epoch 49500 in 4.20 additional seconds\n",
            "Interior relative error is 0.02316792495548725\n",
            "Boundary relative error is 0.022114023566246033\n",
            "Total loss is 3.9410e+03\n",
            "Epoch 49999 in 4.20 sec\n",
            "Final loss is  3945.705078125\n"
          ]
        }
      ],
      "source": [
        "#training loop\n",
        "import time\n",
        "\n",
        "flow_losses = []\n",
        "bdy_losses = []\n",
        "training_losses = []\n",
        "flow_residuals = []\n",
        "bdy_residuals = []\n",
        "\n",
        "# i=1\n",
        "# num_epochs = int(1e5) #run for longer\n",
        "num_epochs = 50000\n",
        "# num_epochs = 75000\n",
        "#adam optimizer via optax\n",
        "opt_state = optimizer.init(params)\n",
        "start_time = time.time()\n",
        "\n",
        "for epoch in range(hypers[\"num epochs\"]):\n",
        "    \n",
        "    key,train_key = random.split(key)\n",
        "    \n",
        "    \n",
        "    params,opt_state,train_loss = compiled_update(params,opt_state,train_key)\n",
        "    # params,opt_state,train_loss = compiled_error_update(params,opt_state,train_key)\n",
        "\n",
        "    # loss = jnp.add(int_loss,bdy_loss)\n",
        "    training_losses.append(train_loss)\n",
        "    \n",
        "    if epoch%500 == 0:\n",
        "      \n",
        "\n",
        "      epoch_time = time.time() - start_time\n",
        "\n",
        "      keys = random.split(train_key,num=2)\n",
        "      int_out_batch = get_batch(hypers[\"batch size\"],keys[0])\n",
        "      bdy_out_batch = get_boundary_batch(hypers[\"boundary size\"],keys[1])\n",
        "\n",
        "      flow_output = flow_loss_vector(params,int_out_batch)\n",
        "      flow_train_loss = jnp.mean(flow_output)\n",
        "      flow_losses.append(flow_train_loss)\n",
        "\n",
        "      bdy_output = batched_model(params,bdy_out_batch)\n",
        "      exact_bdy = exact_vector(bdy_out_batch)\n",
        "      bdy_diff = bdy_output - exact_bdy\n",
        "      bdy_train_loss = hypers[\"beta\"]*jnp.mean(bdy_diff*bdy_diff)\n",
        "      bdy_losses.append(bdy_train_loss)\n",
        "      bdy_error = jnp.sqrt(jnp.mean(bdy_diff*bdy_diff) / jnp.mean(exact_bdy**2)) #don't need penalty param here\n",
        "      # bdy_error = jnp.sqrt(jnp.sum(bdy_diff*bdy_diff) / jnp.sum(exact_bdy**2)) #don't need penalty param here\n",
        "      bdy_residuals.append(bdy_error)\n",
        "\n",
        "      exact_int = exact_vector(int_out_batch)\n",
        "      int_output = batched_model(params,int_out_batch)\n",
        "      int_error = jnp.sqrt(jnp.mean((exact_int - int_output)**2)/jnp.mean(exact_int**2))\n",
        "      # int_error = jnp.sqrt(jnp.sum((exact_int - int_output)**2)/jnp.sum(exact_int**2)) \n",
        "      #error is measured in relative L2 error\n",
        "      flow_residuals.append(int_error)\n",
        "\n",
        "      start_time = time.time()\n",
        "      print(\"---------------\")\n",
        "      print(\"Epoch {} in {:0.2f} additional seconds\".format(epoch, epoch_time))\n",
        "      \n",
        "      print(f'Interior relative error is {int_error}')\n",
        "      print(f'Boundary relative error is {bdy_error}')\n",
        "      train_loss_sci = np.format_float_scientific(train_loss, precision=4, unique=False)\n",
        "      print(\"Total loss is {}\".format(train_loss_sci))\n",
        "    #end if\n",
        "\n",
        "    if epoch%5000 == 0 and epoch != 0:\n",
        "      plt.clf()\n",
        "      fig,axs = plt.subplots(nrows=1,ncols=2)\n",
        "      axs[0].loglog(flow_residuals,'b')\n",
        "      axs[0].loglog(bdy_residuals,'r')\n",
        "      axs[0].set_title(\"Relative L2 error\")\n",
        "      axs[1].loglog(training_losses)\n",
        "      # axs[1].loglog(,'r')\n",
        "      axs[1].set_title(\"Loss\")\n",
        "      plt.show()\n",
        "    #end if\n",
        "\n",
        "#end for\n",
        "    \n",
        "#once loops ends    \n",
        "print(\"Epoch {} in {:0.2f} sec\".format(epoch, epoch_time)) #print final epoch info\n",
        "print(\"Final loss is  {}\".format(train_loss))\n",
        "\n"
      ]
    },
    {
      "cell_type": "code",
      "execution_count": null,
      "metadata": {
        "colab": {
          "base_uri": "https://localhost:8080/",
          "height": 370
        },
        "id": "3uk1ClpeMWhP",
        "outputId": "dea1e70f-564f-4f9e-b570-2b8a8a88ccfc"
      },
      "outputs": [
        {
          "output_type": "stream",
          "name": "stdout",
          "text": [
            "final flow residual error is 0.02316792495548725\n",
            "final boundary residual error is 0.022114023566246033\n",
            "intial error is 1.999695062637329\n",
            "total final error is 0.045281946659088135\n",
            "reduction in error is 1.9544131755828857\n"
          ]
        },
        {
          "output_type": "display_data",
          "data": {
            "text/plain": [
              "<Figure size 432x288 with 1 Axes>"
            ],
            "image/png": "[encoded data removed]"
          },
          "metadata": {
            "needs_background": "light"
          }
        }
      ],
      "source": [
        "plt.clf()\n",
        "plt.loglog(flow_residuals,'b',label=\"flow error\")\n",
        "plt.loglog(bdy_residuals,'r',label = 'boundary error')\n",
        "plt.xlabel(\"Epochs\")\n",
        "plt.ylabel(\"relative L2 error\")\n",
        "plt.legend()\n",
        "# plt.show()\n",
        "plt.savefig(\"100d-resnet-error.png\")\n",
        "print(f'final flow residual error is {flow_residuals[-1]}')\n",
        "print(f'final boundary residual error is {bdy_residuals[-1]}')\n",
        "print(f'intial error is { jnp.add(flow_residuals[0],bdy_residuals[0])}')\n",
        "print(f'total final error is {jnp.add(flow_residuals[-1],bdy_residuals[-1])}')\n",
        "error_reduction = jnp.add(flow_residuals[0],bdy_residuals[0]) - jnp.add(flow_residuals[-1],bdy_residuals[-1])\n",
        "print(f'reduction in error is {error_reduction}')"
      ]
    },
    {
      "cell_type": "code",
      "execution_count": null,
      "metadata": {
        "colab": {
          "base_uri": "https://localhost:8080/",
          "height": 305
        },
        "id": "wMqOpRhxOKza",
        "outputId": "0b8d0c89-183f-415c-ad2e-8e3788e8a674"
      },
      "outputs": [
        {
          "output_type": "stream",
          "name": "stdout",
          "text": [
            "Reduction in loss: 1125707.25\n"
          ]
        },
        {
          "output_type": "display_data",
          "data": {
            "text/plain": [
              "<Figure size 432x288 with 1 Axes>"
            ],
            "image/png": "[encoded data removed]"
          },
          "metadata": {
            "needs_background": "light"
          }
        }
      ],
      "source": [
        "plt.clf()\n",
        "plt.loglog(training_losses)\n",
        "plt.xlabel(\"Epochs\")\n",
        "plt.ylabel(\"Loss\")\n",
        "plt.savefig(\"100D-ff-loss.png\")\n",
        "print(f'Reduction in loss: {training_losses[0] - training_losses[-1]}')"
      ]
    },
    {
      "cell_type": "code",
      "execution_count": null,
      "metadata": {
        "id": "vrxi-r6CkTLi"
      },
      "outputs": [],
      "source": [
        "# print(min(training_losses))"
      ]
    }
  ],
  "metadata": {
    "accelerator": "GPU",
    "colab": {
      "toc_visible": true,
      "provenance": [],
      "authorship_tag": "ABX9TyMu07qNZEPEOY1XoB9ce02E",
      "include_colab_link": true
    },
    "gpuClass": "standard",
    "kernelspec": {
      "display_name": "Python 3",
      "name": "python3"
    },
    "language_info": {
      "name": "python"
    }
  },
  "nbformat": 4,
  "nbformat_minor": 0
}